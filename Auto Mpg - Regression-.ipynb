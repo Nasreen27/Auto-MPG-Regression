{
 "cells": [
  {
   "cell_type": "markdown",
   "metadata": {},
   "source": [
    "#  mpg based on given features"
   ]
  },
  {
   "cell_type": "code",
   "execution_count": 1,
   "metadata": {},
   "outputs": [],
   "source": [
    "import pandas as pd\n",
    "import numpy as np\n",
    "import matplotlib.pyplot as plt\n",
    "%matplotlib inline\n",
    "import seaborn as sns\n",
    "from scipy import stats\n",
    "\n",
    "from sklearn.linear_model import LinearRegression\n",
    "from sklearn.model_selection import train_test_split\n",
    "\n",
    "\n",
    "from sklearn.linear_model import ElasticNet\n",
    "from sklearn.linear_model import Ridge, RidgeCV, Lasso, LassoCV\n",
    "from sklearn.neighbors import KNeighborsRegressor\n",
    "from sklearn.tree import DecisionTreeRegressor\n",
    "from sklearn.svm import SVR\n",
    "from sklearn.ensemble import RandomForestRegressor\n",
    "from sklearn.metrics import r2_score\n",
    "from sklearn.metrics import mean_squared_error\n",
    "from math import sqrt"
   ]
  },
  {
   "cell_type": "code",
   "execution_count": 2,
   "metadata": {},
   "outputs": [],
   "source": [
    "df= pd.read_csv(\"auto-mpg.csv\")"
   ]
  },
  {
   "cell_type": "code",
   "execution_count": 3,
   "metadata": {},
   "outputs": [
    {
     "data": {
      "text/plain": [
       "(398, 9)"
      ]
     },
     "execution_count": 3,
     "metadata": {},
     "output_type": "execute_result"
    }
   ],
   "source": [
    "df.shape"
   ]
  },
  {
   "cell_type": "code",
   "execution_count": 4,
   "metadata": {},
   "outputs": [
    {
     "data": {
      "text/html": [
       "<div>\n",
       "<style scoped>\n",
       "    .dataframe tbody tr th:only-of-type {\n",
       "        vertical-align: middle;\n",
       "    }\n",
       "\n",
       "    .dataframe tbody tr th {\n",
       "        vertical-align: top;\n",
       "    }\n",
       "\n",
       "    .dataframe thead th {\n",
       "        text-align: right;\n",
       "    }\n",
       "</style>\n",
       "<table border=\"1\" class=\"dataframe\">\n",
       "  <thead>\n",
       "    <tr style=\"text-align: right;\">\n",
       "      <th></th>\n",
       "      <th>mpg</th>\n",
       "      <th>cyl</th>\n",
       "      <th>disp</th>\n",
       "      <th>hp</th>\n",
       "      <th>wt</th>\n",
       "      <th>acc</th>\n",
       "      <th>yr</th>\n",
       "      <th>origin</th>\n",
       "      <th>car name</th>\n",
       "    </tr>\n",
       "  </thead>\n",
       "  <tbody>\n",
       "    <tr>\n",
       "      <th>0</th>\n",
       "      <td>18.0</td>\n",
       "      <td>8</td>\n",
       "      <td>307.0</td>\n",
       "      <td>130</td>\n",
       "      <td>3504</td>\n",
       "      <td>12.0</td>\n",
       "      <td>70</td>\n",
       "      <td>1</td>\n",
       "      <td>chevrolet chevelle malibu</td>\n",
       "    </tr>\n",
       "    <tr>\n",
       "      <th>1</th>\n",
       "      <td>15.0</td>\n",
       "      <td>8</td>\n",
       "      <td>350.0</td>\n",
       "      <td>165</td>\n",
       "      <td>3693</td>\n",
       "      <td>11.5</td>\n",
       "      <td>70</td>\n",
       "      <td>1</td>\n",
       "      <td>buick skylark 320</td>\n",
       "    </tr>\n",
       "    <tr>\n",
       "      <th>2</th>\n",
       "      <td>18.0</td>\n",
       "      <td>8</td>\n",
       "      <td>318.0</td>\n",
       "      <td>150</td>\n",
       "      <td>3436</td>\n",
       "      <td>11.0</td>\n",
       "      <td>70</td>\n",
       "      <td>1</td>\n",
       "      <td>plymouth satellite</td>\n",
       "    </tr>\n",
       "    <tr>\n",
       "      <th>3</th>\n",
       "      <td>16.0</td>\n",
       "      <td>8</td>\n",
       "      <td>304.0</td>\n",
       "      <td>150</td>\n",
       "      <td>3433</td>\n",
       "      <td>12.0</td>\n",
       "      <td>70</td>\n",
       "      <td>1</td>\n",
       "      <td>amc rebel sst</td>\n",
       "    </tr>\n",
       "    <tr>\n",
       "      <th>4</th>\n",
       "      <td>17.0</td>\n",
       "      <td>8</td>\n",
       "      <td>302.0</td>\n",
       "      <td>140</td>\n",
       "      <td>3449</td>\n",
       "      <td>10.5</td>\n",
       "      <td>70</td>\n",
       "      <td>1</td>\n",
       "      <td>ford torino</td>\n",
       "    </tr>\n",
       "  </tbody>\n",
       "</table>\n",
       "</div>"
      ],
      "text/plain": [
       "    mpg  cyl   disp   hp    wt   acc  yr  origin                   car name\n",
       "0  18.0    8  307.0  130  3504  12.0  70       1  chevrolet chevelle malibu\n",
       "1  15.0    8  350.0  165  3693  11.5  70       1          buick skylark 320\n",
       "2  18.0    8  318.0  150  3436  11.0  70       1         plymouth satellite\n",
       "3  16.0    8  304.0  150  3433  12.0  70       1              amc rebel sst\n",
       "4  17.0    8  302.0  140  3449  10.5  70       1                ford torino"
      ]
     },
     "execution_count": 4,
     "metadata": {},
     "output_type": "execute_result"
    }
   ],
   "source": [
    "df.head()\n",
    "#disp=displacement\n",
    "#mpg=mile per gallon\n",
    "#"
   ]
  },
  {
   "cell_type": "code",
   "execution_count": 5,
   "metadata": {},
   "outputs": [
    {
     "data": {
      "text/html": [
       "<div>\n",
       "<style scoped>\n",
       "    .dataframe tbody tr th:only-of-type {\n",
       "        vertical-align: middle;\n",
       "    }\n",
       "\n",
       "    .dataframe tbody tr th {\n",
       "        vertical-align: top;\n",
       "    }\n",
       "\n",
       "    .dataframe thead th {\n",
       "        text-align: right;\n",
       "    }\n",
       "</style>\n",
       "<table border=\"1\" class=\"dataframe\">\n",
       "  <thead>\n",
       "    <tr style=\"text-align: right;\">\n",
       "      <th></th>\n",
       "      <th>mpg</th>\n",
       "      <th>cyl</th>\n",
       "      <th>disp</th>\n",
       "      <th>hp</th>\n",
       "      <th>wt</th>\n",
       "      <th>acc</th>\n",
       "      <th>yr</th>\n",
       "      <th>origin</th>\n",
       "      <th>car name</th>\n",
       "    </tr>\n",
       "  </thead>\n",
       "  <tbody>\n",
       "    <tr>\n",
       "      <th>133</th>\n",
       "      <td>16.0</td>\n",
       "      <td>6</td>\n",
       "      <td>250.0</td>\n",
       "      <td>100</td>\n",
       "      <td>3781</td>\n",
       "      <td>17.0</td>\n",
       "      <td>74</td>\n",
       "      <td>1</td>\n",
       "      <td>chevrolet chevelle malibu classic</td>\n",
       "    </tr>\n",
       "    <tr>\n",
       "      <th>64</th>\n",
       "      <td>15.0</td>\n",
       "      <td>8</td>\n",
       "      <td>318.0</td>\n",
       "      <td>150</td>\n",
       "      <td>4135</td>\n",
       "      <td>13.5</td>\n",
       "      <td>72</td>\n",
       "      <td>1</td>\n",
       "      <td>plymouth fury iii</td>\n",
       "    </tr>\n",
       "    <tr>\n",
       "      <th>72</th>\n",
       "      <td>15.0</td>\n",
       "      <td>8</td>\n",
       "      <td>304.0</td>\n",
       "      <td>150</td>\n",
       "      <td>3892</td>\n",
       "      <td>12.5</td>\n",
       "      <td>72</td>\n",
       "      <td>1</td>\n",
       "      <td>amc matador (sw)</td>\n",
       "    </tr>\n",
       "    <tr>\n",
       "      <th>385</th>\n",
       "      <td>38.0</td>\n",
       "      <td>4</td>\n",
       "      <td>91.0</td>\n",
       "      <td>67</td>\n",
       "      <td>1995</td>\n",
       "      <td>16.2</td>\n",
       "      <td>82</td>\n",
       "      <td>3</td>\n",
       "      <td>datsun 310 gx</td>\n",
       "    </tr>\n",
       "    <tr>\n",
       "      <th>238</th>\n",
       "      <td>33.5</td>\n",
       "      <td>4</td>\n",
       "      <td>98.0</td>\n",
       "      <td>83</td>\n",
       "      <td>2075</td>\n",
       "      <td>15.9</td>\n",
       "      <td>77</td>\n",
       "      <td>1</td>\n",
       "      <td>dodge colt m/m</td>\n",
       "    </tr>\n",
       "    <tr>\n",
       "      <th>393</th>\n",
       "      <td>27.0</td>\n",
       "      <td>4</td>\n",
       "      <td>140.0</td>\n",
       "      <td>86</td>\n",
       "      <td>2790</td>\n",
       "      <td>15.6</td>\n",
       "      <td>82</td>\n",
       "      <td>1</td>\n",
       "      <td>ford mustang gl</td>\n",
       "    </tr>\n",
       "    <tr>\n",
       "      <th>151</th>\n",
       "      <td>31.0</td>\n",
       "      <td>4</td>\n",
       "      <td>79.0</td>\n",
       "      <td>67</td>\n",
       "      <td>2000</td>\n",
       "      <td>16.0</td>\n",
       "      <td>74</td>\n",
       "      <td>2</td>\n",
       "      <td>fiat x1.9</td>\n",
       "    </tr>\n",
       "    <tr>\n",
       "      <th>198</th>\n",
       "      <td>33.0</td>\n",
       "      <td>4</td>\n",
       "      <td>91.0</td>\n",
       "      <td>53</td>\n",
       "      <td>1795</td>\n",
       "      <td>17.4</td>\n",
       "      <td>76</td>\n",
       "      <td>3</td>\n",
       "      <td>honda civic</td>\n",
       "    </tr>\n",
       "    <tr>\n",
       "      <th>94</th>\n",
       "      <td>13.0</td>\n",
       "      <td>8</td>\n",
       "      <td>440.0</td>\n",
       "      <td>215</td>\n",
       "      <td>4735</td>\n",
       "      <td>11.0</td>\n",
       "      <td>73</td>\n",
       "      <td>1</td>\n",
       "      <td>chrysler new yorker brougham</td>\n",
       "    </tr>\n",
       "    <tr>\n",
       "      <th>386</th>\n",
       "      <td>25.0</td>\n",
       "      <td>6</td>\n",
       "      <td>181.0</td>\n",
       "      <td>110</td>\n",
       "      <td>2945</td>\n",
       "      <td>16.4</td>\n",
       "      <td>82</td>\n",
       "      <td>1</td>\n",
       "      <td>buick century limited</td>\n",
       "    </tr>\n",
       "  </tbody>\n",
       "</table>\n",
       "</div>"
      ],
      "text/plain": [
       "      mpg  cyl   disp   hp    wt   acc  yr  origin  \\\n",
       "133  16.0    6  250.0  100  3781  17.0  74       1   \n",
       "64   15.0    8  318.0  150  4135  13.5  72       1   \n",
       "72   15.0    8  304.0  150  3892  12.5  72       1   \n",
       "385  38.0    4   91.0   67  1995  16.2  82       3   \n",
       "238  33.5    4   98.0   83  2075  15.9  77       1   \n",
       "393  27.0    4  140.0   86  2790  15.6  82       1   \n",
       "151  31.0    4   79.0   67  2000  16.0  74       2   \n",
       "198  33.0    4   91.0   53  1795  17.4  76       3   \n",
       "94   13.0    8  440.0  215  4735  11.0  73       1   \n",
       "386  25.0    6  181.0  110  2945  16.4  82       1   \n",
       "\n",
       "                              car name  \n",
       "133  chevrolet chevelle malibu classic  \n",
       "64                   plymouth fury iii  \n",
       "72                    amc matador (sw)  \n",
       "385                      datsun 310 gx  \n",
       "238                     dodge colt m/m  \n",
       "393                    ford mustang gl  \n",
       "151                          fiat x1.9  \n",
       "198                        honda civic  \n",
       "94        chrysler new yorker brougham  \n",
       "386              buick century limited  "
      ]
     },
     "execution_count": 5,
     "metadata": {},
     "output_type": "execute_result"
    }
   ],
   "source": [
    "df.sample(10)"
   ]
  },
  {
   "cell_type": "code",
   "execution_count": 6,
   "metadata": {},
   "outputs": [
    {
     "data": {
      "text/html": [
       "<div>\n",
       "<style scoped>\n",
       "    .dataframe tbody tr th:only-of-type {\n",
       "        vertical-align: middle;\n",
       "    }\n",
       "\n",
       "    .dataframe tbody tr th {\n",
       "        vertical-align: top;\n",
       "    }\n",
       "\n",
       "    .dataframe thead th {\n",
       "        text-align: right;\n",
       "    }\n",
       "</style>\n",
       "<table border=\"1\" class=\"dataframe\">\n",
       "  <thead>\n",
       "    <tr style=\"text-align: right;\">\n",
       "      <th></th>\n",
       "      <th>mpg</th>\n",
       "      <th>cyl</th>\n",
       "      <th>disp</th>\n",
       "      <th>hp</th>\n",
       "      <th>wt</th>\n",
       "      <th>acc</th>\n",
       "      <th>yr</th>\n",
       "      <th>origin</th>\n",
       "      <th>car name</th>\n",
       "    </tr>\n",
       "  </thead>\n",
       "  <tbody>\n",
       "    <tr>\n",
       "      <th>count</th>\n",
       "      <td>398.000000</td>\n",
       "      <td>398.000000</td>\n",
       "      <td>398.000000</td>\n",
       "      <td>398</td>\n",
       "      <td>398.000000</td>\n",
       "      <td>398.000000</td>\n",
       "      <td>398.000000</td>\n",
       "      <td>398.000000</td>\n",
       "      <td>398</td>\n",
       "    </tr>\n",
       "    <tr>\n",
       "      <th>unique</th>\n",
       "      <td>NaN</td>\n",
       "      <td>NaN</td>\n",
       "      <td>NaN</td>\n",
       "      <td>94</td>\n",
       "      <td>NaN</td>\n",
       "      <td>NaN</td>\n",
       "      <td>NaN</td>\n",
       "      <td>NaN</td>\n",
       "      <td>305</td>\n",
       "    </tr>\n",
       "    <tr>\n",
       "      <th>top</th>\n",
       "      <td>NaN</td>\n",
       "      <td>NaN</td>\n",
       "      <td>NaN</td>\n",
       "      <td>150</td>\n",
       "      <td>NaN</td>\n",
       "      <td>NaN</td>\n",
       "      <td>NaN</td>\n",
       "      <td>NaN</td>\n",
       "      <td>ford pinto</td>\n",
       "    </tr>\n",
       "    <tr>\n",
       "      <th>freq</th>\n",
       "      <td>NaN</td>\n",
       "      <td>NaN</td>\n",
       "      <td>NaN</td>\n",
       "      <td>22</td>\n",
       "      <td>NaN</td>\n",
       "      <td>NaN</td>\n",
       "      <td>NaN</td>\n",
       "      <td>NaN</td>\n",
       "      <td>6</td>\n",
       "    </tr>\n",
       "    <tr>\n",
       "      <th>mean</th>\n",
       "      <td>23.514573</td>\n",
       "      <td>5.454774</td>\n",
       "      <td>193.425879</td>\n",
       "      <td>NaN</td>\n",
       "      <td>2970.424623</td>\n",
       "      <td>15.568090</td>\n",
       "      <td>76.010050</td>\n",
       "      <td>1.572864</td>\n",
       "      <td>NaN</td>\n",
       "    </tr>\n",
       "    <tr>\n",
       "      <th>std</th>\n",
       "      <td>7.815984</td>\n",
       "      <td>1.701004</td>\n",
       "      <td>104.269838</td>\n",
       "      <td>NaN</td>\n",
       "      <td>846.841774</td>\n",
       "      <td>2.757689</td>\n",
       "      <td>3.697627</td>\n",
       "      <td>0.802055</td>\n",
       "      <td>NaN</td>\n",
       "    </tr>\n",
       "    <tr>\n",
       "      <th>min</th>\n",
       "      <td>9.000000</td>\n",
       "      <td>3.000000</td>\n",
       "      <td>68.000000</td>\n",
       "      <td>NaN</td>\n",
       "      <td>1613.000000</td>\n",
       "      <td>8.000000</td>\n",
       "      <td>70.000000</td>\n",
       "      <td>1.000000</td>\n",
       "      <td>NaN</td>\n",
       "    </tr>\n",
       "    <tr>\n",
       "      <th>25%</th>\n",
       "      <td>17.500000</td>\n",
       "      <td>4.000000</td>\n",
       "      <td>104.250000</td>\n",
       "      <td>NaN</td>\n",
       "      <td>2223.750000</td>\n",
       "      <td>13.825000</td>\n",
       "      <td>73.000000</td>\n",
       "      <td>1.000000</td>\n",
       "      <td>NaN</td>\n",
       "    </tr>\n",
       "    <tr>\n",
       "      <th>50%</th>\n",
       "      <td>23.000000</td>\n",
       "      <td>4.000000</td>\n",
       "      <td>148.500000</td>\n",
       "      <td>NaN</td>\n",
       "      <td>2803.500000</td>\n",
       "      <td>15.500000</td>\n",
       "      <td>76.000000</td>\n",
       "      <td>1.000000</td>\n",
       "      <td>NaN</td>\n",
       "    </tr>\n",
       "    <tr>\n",
       "      <th>75%</th>\n",
       "      <td>29.000000</td>\n",
       "      <td>8.000000</td>\n",
       "      <td>262.000000</td>\n",
       "      <td>NaN</td>\n",
       "      <td>3608.000000</td>\n",
       "      <td>17.175000</td>\n",
       "      <td>79.000000</td>\n",
       "      <td>2.000000</td>\n",
       "      <td>NaN</td>\n",
       "    </tr>\n",
       "    <tr>\n",
       "      <th>max</th>\n",
       "      <td>46.600000</td>\n",
       "      <td>8.000000</td>\n",
       "      <td>455.000000</td>\n",
       "      <td>NaN</td>\n",
       "      <td>5140.000000</td>\n",
       "      <td>24.800000</td>\n",
       "      <td>82.000000</td>\n",
       "      <td>3.000000</td>\n",
       "      <td>NaN</td>\n",
       "    </tr>\n",
       "  </tbody>\n",
       "</table>\n",
       "</div>"
      ],
      "text/plain": [
       "               mpg         cyl        disp   hp           wt         acc  \\\n",
       "count   398.000000  398.000000  398.000000  398   398.000000  398.000000   \n",
       "unique         NaN         NaN         NaN   94          NaN         NaN   \n",
       "top            NaN         NaN         NaN  150          NaN         NaN   \n",
       "freq           NaN         NaN         NaN   22          NaN         NaN   \n",
       "mean     23.514573    5.454774  193.425879  NaN  2970.424623   15.568090   \n",
       "std       7.815984    1.701004  104.269838  NaN   846.841774    2.757689   \n",
       "min       9.000000    3.000000   68.000000  NaN  1613.000000    8.000000   \n",
       "25%      17.500000    4.000000  104.250000  NaN  2223.750000   13.825000   \n",
       "50%      23.000000    4.000000  148.500000  NaN  2803.500000   15.500000   \n",
       "75%      29.000000    8.000000  262.000000  NaN  3608.000000   17.175000   \n",
       "max      46.600000    8.000000  455.000000  NaN  5140.000000   24.800000   \n",
       "\n",
       "                yr      origin    car name  \n",
       "count   398.000000  398.000000         398  \n",
       "unique         NaN         NaN         305  \n",
       "top            NaN         NaN  ford pinto  \n",
       "freq           NaN         NaN           6  \n",
       "mean     76.010050    1.572864         NaN  \n",
       "std       3.697627    0.802055         NaN  \n",
       "min      70.000000    1.000000         NaN  \n",
       "25%      73.000000    1.000000         NaN  \n",
       "50%      76.000000    1.000000         NaN  \n",
       "75%      79.000000    2.000000         NaN  \n",
       "max      82.000000    3.000000         NaN  "
      ]
     },
     "execution_count": 6,
     "metadata": {},
     "output_type": "execute_result"
    }
   ],
   "source": [
    "df.describe(include=\"all\")"
   ]
  },
  {
   "cell_type": "code",
   "execution_count": 7,
   "metadata": {},
   "outputs": [
    {
     "name": "stdout",
     "output_type": "stream",
     "text": [
      "<class 'pandas.core.frame.DataFrame'>\n",
      "RangeIndex: 398 entries, 0 to 397\n",
      "Data columns (total 9 columns):\n",
      " #   Column    Non-Null Count  Dtype  \n",
      "---  ------    --------------  -----  \n",
      " 0   mpg       398 non-null    float64\n",
      " 1   cyl       398 non-null    int64  \n",
      " 2   disp      398 non-null    float64\n",
      " 3   hp        398 non-null    object \n",
      " 4   wt        398 non-null    int64  \n",
      " 5   acc       398 non-null    float64\n",
      " 6   yr        398 non-null    int64  \n",
      " 7   origin    398 non-null    int64  \n",
      " 8   car name  398 non-null    object \n",
      "dtypes: float64(3), int64(4), object(2)\n",
      "memory usage: 28.1+ KB\n"
     ]
    }
   ],
   "source": [
    "df.info()"
   ]
  },
  {
   "cell_type": "markdown",
   "metadata": {},
   "source": [
    "###  car name - are categoical\n",
    "### hp has \"?\" in it, so it is showing as catergorical, but it is not!"
   ]
  },
  {
   "cell_type": "code",
   "execution_count": 8,
   "metadata": {},
   "outputs": [
    {
     "data": {
      "text/html": [
       "<div>\n",
       "<style scoped>\n",
       "    .dataframe tbody tr th:only-of-type {\n",
       "        vertical-align: middle;\n",
       "    }\n",
       "\n",
       "    .dataframe tbody tr th {\n",
       "        vertical-align: top;\n",
       "    }\n",
       "\n",
       "    .dataframe thead th {\n",
       "        text-align: right;\n",
       "    }\n",
       "</style>\n",
       "<table border=\"1\" class=\"dataframe\">\n",
       "  <thead>\n",
       "    <tr style=\"text-align: right;\">\n",
       "      <th></th>\n",
       "      <th>mpg</th>\n",
       "      <th>cyl</th>\n",
       "      <th>disp</th>\n",
       "      <th>hp</th>\n",
       "      <th>wt</th>\n",
       "      <th>acc</th>\n",
       "      <th>yr</th>\n",
       "      <th>origin</th>\n",
       "      <th>car name</th>\n",
       "    </tr>\n",
       "  </thead>\n",
       "  <tbody>\n",
       "    <tr>\n",
       "      <th>0</th>\n",
       "      <td>False</td>\n",
       "      <td>False</td>\n",
       "      <td>False</td>\n",
       "      <td>False</td>\n",
       "      <td>False</td>\n",
       "      <td>False</td>\n",
       "      <td>False</td>\n",
       "      <td>False</td>\n",
       "      <td>False</td>\n",
       "    </tr>\n",
       "    <tr>\n",
       "      <th>1</th>\n",
       "      <td>False</td>\n",
       "      <td>False</td>\n",
       "      <td>False</td>\n",
       "      <td>False</td>\n",
       "      <td>False</td>\n",
       "      <td>False</td>\n",
       "      <td>False</td>\n",
       "      <td>False</td>\n",
       "      <td>False</td>\n",
       "    </tr>\n",
       "    <tr>\n",
       "      <th>2</th>\n",
       "      <td>False</td>\n",
       "      <td>False</td>\n",
       "      <td>False</td>\n",
       "      <td>False</td>\n",
       "      <td>False</td>\n",
       "      <td>False</td>\n",
       "      <td>False</td>\n",
       "      <td>False</td>\n",
       "      <td>False</td>\n",
       "    </tr>\n",
       "    <tr>\n",
       "      <th>3</th>\n",
       "      <td>False</td>\n",
       "      <td>False</td>\n",
       "      <td>False</td>\n",
       "      <td>False</td>\n",
       "      <td>False</td>\n",
       "      <td>False</td>\n",
       "      <td>False</td>\n",
       "      <td>False</td>\n",
       "      <td>False</td>\n",
       "    </tr>\n",
       "    <tr>\n",
       "      <th>4</th>\n",
       "      <td>False</td>\n",
       "      <td>False</td>\n",
       "      <td>False</td>\n",
       "      <td>False</td>\n",
       "      <td>False</td>\n",
       "      <td>False</td>\n",
       "      <td>False</td>\n",
       "      <td>False</td>\n",
       "      <td>False</td>\n",
       "    </tr>\n",
       "    <tr>\n",
       "      <th>...</th>\n",
       "      <td>...</td>\n",
       "      <td>...</td>\n",
       "      <td>...</td>\n",
       "      <td>...</td>\n",
       "      <td>...</td>\n",
       "      <td>...</td>\n",
       "      <td>...</td>\n",
       "      <td>...</td>\n",
       "      <td>...</td>\n",
       "    </tr>\n",
       "    <tr>\n",
       "      <th>393</th>\n",
       "      <td>False</td>\n",
       "      <td>False</td>\n",
       "      <td>False</td>\n",
       "      <td>False</td>\n",
       "      <td>False</td>\n",
       "      <td>False</td>\n",
       "      <td>False</td>\n",
       "      <td>False</td>\n",
       "      <td>False</td>\n",
       "    </tr>\n",
       "    <tr>\n",
       "      <th>394</th>\n",
       "      <td>False</td>\n",
       "      <td>False</td>\n",
       "      <td>False</td>\n",
       "      <td>False</td>\n",
       "      <td>False</td>\n",
       "      <td>False</td>\n",
       "      <td>False</td>\n",
       "      <td>False</td>\n",
       "      <td>False</td>\n",
       "    </tr>\n",
       "    <tr>\n",
       "      <th>395</th>\n",
       "      <td>False</td>\n",
       "      <td>False</td>\n",
       "      <td>False</td>\n",
       "      <td>False</td>\n",
       "      <td>False</td>\n",
       "      <td>False</td>\n",
       "      <td>False</td>\n",
       "      <td>False</td>\n",
       "      <td>False</td>\n",
       "    </tr>\n",
       "    <tr>\n",
       "      <th>396</th>\n",
       "      <td>False</td>\n",
       "      <td>False</td>\n",
       "      <td>False</td>\n",
       "      <td>False</td>\n",
       "      <td>False</td>\n",
       "      <td>False</td>\n",
       "      <td>False</td>\n",
       "      <td>False</td>\n",
       "      <td>False</td>\n",
       "    </tr>\n",
       "    <tr>\n",
       "      <th>397</th>\n",
       "      <td>False</td>\n",
       "      <td>False</td>\n",
       "      <td>False</td>\n",
       "      <td>False</td>\n",
       "      <td>False</td>\n",
       "      <td>False</td>\n",
       "      <td>False</td>\n",
       "      <td>False</td>\n",
       "      <td>False</td>\n",
       "    </tr>\n",
       "  </tbody>\n",
       "</table>\n",
       "<p>398 rows × 9 columns</p>\n",
       "</div>"
      ],
      "text/plain": [
       "       mpg    cyl   disp     hp     wt    acc     yr  origin  car name\n",
       "0    False  False  False  False  False  False  False   False     False\n",
       "1    False  False  False  False  False  False  False   False     False\n",
       "2    False  False  False  False  False  False  False   False     False\n",
       "3    False  False  False  False  False  False  False   False     False\n",
       "4    False  False  False  False  False  False  False   False     False\n",
       "..     ...    ...    ...    ...    ...    ...    ...     ...       ...\n",
       "393  False  False  False  False  False  False  False   False     False\n",
       "394  False  False  False  False  False  False  False   False     False\n",
       "395  False  False  False  False  False  False  False   False     False\n",
       "396  False  False  False  False  False  False  False   False     False\n",
       "397  False  False  False  False  False  False  False   False     False\n",
       "\n",
       "[398 rows x 9 columns]"
      ]
     },
     "execution_count": 8,
     "metadata": {},
     "output_type": "execute_result"
    }
   ],
   "source": [
    "df.isnull()"
   ]
  },
  {
   "cell_type": "code",
   "execution_count": 9,
   "metadata": {},
   "outputs": [
    {
     "data": {
      "text/plain": [
       "mpg         0\n",
       "cyl         0\n",
       "disp        0\n",
       "hp          0\n",
       "wt          0\n",
       "acc         0\n",
       "yr          0\n",
       "origin      0\n",
       "car name    0\n",
       "dtype: int64"
      ]
     },
     "execution_count": 9,
     "metadata": {},
     "output_type": "execute_result"
    }
   ],
   "source": [
    "df.isnull().sum()"
   ]
  },
  {
   "cell_type": "code",
   "execution_count": 10,
   "metadata": {},
   "outputs": [
    {
     "data": {
      "text/plain": [
       "array([[<AxesSubplot:title={'center':'mpg'}>,\n",
       "        <AxesSubplot:title={'center':'cyl'}>,\n",
       "        <AxesSubplot:title={'center':'disp'}>],\n",
       "       [<AxesSubplot:title={'center':'wt'}>,\n",
       "        <AxesSubplot:title={'center':'acc'}>,\n",
       "        <AxesSubplot:title={'center':'yr'}>],\n",
       "       [<AxesSubplot:title={'center':'origin'}>, <AxesSubplot:>,\n",
       "        <AxesSubplot:>]], dtype=object)"
      ]
     },
     "execution_count": 10,
     "metadata": {},
     "output_type": "execute_result"
    },
    {
     "data": {
      "image/png": "[encoded data removed]",
      "text/plain": [
       "<Figure size 1440x2160 with 9 Axes>"
      ]
     },
     "metadata": {
      "needs_background": "light"
     },
     "output_type": "display_data"
    }
   ],
   "source": [
    "df.hist(figsize=(20,30))"
   ]
  },
  {
   "cell_type": "code",
   "execution_count": 17,
   "metadata": {},
   "outputs": [
    {
     "data": {
      "text/plain": [
       "<AxesSubplot:xlabel='origin', ylabel='mpg'>"
      ]
     },
     "execution_count": 17,
     "metadata": {},
     "output_type": "execute_result"
    },
    {
     "data": {
      "image/png": "[encoded data removed]",
      "text/plain": [
       "<Figure size 432x288 with 1 Axes>"
      ]
     },
     "metadata": {
      "needs_background": "light"
     },
     "output_type": "display_data"
    }
   ],
   "source": [
    "sns.boxplot(x=\"origin\",y=\"mpg\",data=df)\n"
   ]
  },
  {
   "cell_type": "code",
   "execution_count": 18,
   "metadata": {},
   "outputs": [
    {
     "data": {
      "text/plain": [
       "<AxesSubplot:xlabel='yr', ylabel='mpg'>"
      ]
     },
     "execution_count": 18,
     "metadata": {},
     "output_type": "execute_result"
    },
    {
     "data": {
      "image/png": "[encoded data removed]",
      "text/plain": [
       "<Figure size 432x288 with 1 Axes>"
      ]
     },
     "metadata": {
      "needs_background": "light"
     },
     "output_type": "display_data"
    }
   ],
   "source": [
    "sns.boxplot(x=\"yr\",y=\"mpg\",data=df)"
   ]
  },
  {
   "cell_type": "code",
   "execution_count": 19,
   "metadata": {},
   "outputs": [
    {
     "data": {
      "text/plain": [
       "<AxesSubplot:xlabel='cyl', ylabel='mpg'>"
      ]
     },
     "execution_count": 19,
     "metadata": {},
     "output_type": "execute_result"
    },
    {
     "data": {
      "image/png": "[encoded data removed]",
      "text/plain": [
       "<Figure size 432x288 with 1 Axes>"
      ]
     },
     "metadata": {
      "needs_background": "light"
     },
     "output_type": "display_data"
    }
   ],
   "source": [
    "sns.boxplot(x=\"cyl\",y=\"mpg\",data=df)"
   ]
  },
  {
   "cell_type": "code",
   "execution_count": 20,
   "metadata": {},
   "outputs": [
    {
     "data": {
      "text/plain": [
       "<seaborn.axisgrid.PairGrid at 0x1f062bf0910>"
      ]
     },
     "execution_count": 20,
     "metadata": {},
     "output_type": "execute_result"
    },
    {
     "data": {
      "image/png": "[encoded data removed]",
      "text/plain": [
       "<Figure size 1260x1260 with 56 Axes>"
      ]
     },
     "metadata": {
      "needs_background": "light"
     },
     "output_type": "display_data"
    }
   ],
   "source": [
    "sns.pairplot(df, diag_kind=\"kde\")"
   ]
  },
  {
   "cell_type": "code",
   "execution_count": 21,
   "metadata": {},
   "outputs": [
    {
     "data": {
      "text/html": [
       "<div>\n",
       "<style scoped>\n",
       "    .dataframe tbody tr th:only-of-type {\n",
       "        vertical-align: middle;\n",
       "    }\n",
       "\n",
       "    .dataframe tbody tr th {\n",
       "        vertical-align: top;\n",
       "    }\n",
       "\n",
       "    .dataframe thead th {\n",
       "        text-align: right;\n",
       "    }\n",
       "</style>\n",
       "<table border=\"1\" class=\"dataframe\">\n",
       "  <thead>\n",
       "    <tr style=\"text-align: right;\">\n",
       "      <th></th>\n",
       "      <th>mpg</th>\n",
       "      <th>cyl</th>\n",
       "      <th>disp</th>\n",
       "      <th>wt</th>\n",
       "      <th>acc</th>\n",
       "      <th>yr</th>\n",
       "      <th>origin</th>\n",
       "    </tr>\n",
       "  </thead>\n",
       "  <tbody>\n",
       "    <tr>\n",
       "      <th>mpg</th>\n",
       "      <td>1.000000</td>\n",
       "      <td>-0.775396</td>\n",
       "      <td>-0.804203</td>\n",
       "      <td>-0.831741</td>\n",
       "      <td>0.420289</td>\n",
       "      <td>0.579267</td>\n",
       "      <td>0.563450</td>\n",
       "    </tr>\n",
       "    <tr>\n",
       "      <th>cyl</th>\n",
       "      <td>-0.775396</td>\n",
       "      <td>1.000000</td>\n",
       "      <td>0.950721</td>\n",
       "      <td>0.896017</td>\n",
       "      <td>-0.505419</td>\n",
       "      <td>-0.348746</td>\n",
       "      <td>-0.562543</td>\n",
       "    </tr>\n",
       "    <tr>\n",
       "      <th>disp</th>\n",
       "      <td>-0.804203</td>\n",
       "      <td>0.950721</td>\n",
       "      <td>1.000000</td>\n",
       "      <td>0.932824</td>\n",
       "      <td>-0.543684</td>\n",
       "      <td>-0.370164</td>\n",
       "      <td>-0.609409</td>\n",
       "    </tr>\n",
       "    <tr>\n",
       "      <th>wt</th>\n",
       "      <td>-0.831741</td>\n",
       "      <td>0.896017</td>\n",
       "      <td>0.932824</td>\n",
       "      <td>1.000000</td>\n",
       "      <td>-0.417457</td>\n",
       "      <td>-0.306564</td>\n",
       "      <td>-0.581024</td>\n",
       "    </tr>\n",
       "    <tr>\n",
       "      <th>acc</th>\n",
       "      <td>0.420289</td>\n",
       "      <td>-0.505419</td>\n",
       "      <td>-0.543684</td>\n",
       "      <td>-0.417457</td>\n",
       "      <td>1.000000</td>\n",
       "      <td>0.288137</td>\n",
       "      <td>0.205873</td>\n",
       "    </tr>\n",
       "    <tr>\n",
       "      <th>yr</th>\n",
       "      <td>0.579267</td>\n",
       "      <td>-0.348746</td>\n",
       "      <td>-0.370164</td>\n",
       "      <td>-0.306564</td>\n",
       "      <td>0.288137</td>\n",
       "      <td>1.000000</td>\n",
       "      <td>0.180662</td>\n",
       "    </tr>\n",
       "    <tr>\n",
       "      <th>origin</th>\n",
       "      <td>0.563450</td>\n",
       "      <td>-0.562543</td>\n",
       "      <td>-0.609409</td>\n",
       "      <td>-0.581024</td>\n",
       "      <td>0.205873</td>\n",
       "      <td>0.180662</td>\n",
       "      <td>1.000000</td>\n",
       "    </tr>\n",
       "  </tbody>\n",
       "</table>\n",
       "</div>"
      ],
      "text/plain": [
       "             mpg       cyl      disp        wt       acc        yr    origin\n",
       "mpg     1.000000 -0.775396 -0.804203 -0.831741  0.420289  0.579267  0.563450\n",
       "cyl    -0.775396  1.000000  0.950721  0.896017 -0.505419 -0.348746 -0.562543\n",
       "disp   -0.804203  0.950721  1.000000  0.932824 -0.543684 -0.370164 -0.609409\n",
       "wt     -0.831741  0.896017  0.932824  1.000000 -0.417457 -0.306564 -0.581024\n",
       "acc     0.420289 -0.505419 -0.543684 -0.417457  1.000000  0.288137  0.205873\n",
       "yr      0.579267 -0.348746 -0.370164 -0.306564  0.288137  1.000000  0.180662\n",
       "origin  0.563450 -0.562543 -0.609409 -0.581024  0.205873  0.180662  1.000000"
      ]
     },
     "execution_count": 21,
     "metadata": {},
     "output_type": "execute_result"
    }
   ],
   "source": [
    "corr=df.corr()\n",
    "corr"
   ]
  },
  {
   "cell_type": "markdown",
   "metadata": {},
   "source": [
    "### mpg-cy,disp- negatively corr \n",
    "### cyl, disp- highly correalted - 0.95\n",
    "### cyl, wt- higly correlated- 0.9\n",
    "### disp, wt - highly correlated-   0.93\n",
    "### wt,mpg- higly -ve correlated-    -0.83\n",
    "### disp, mpg - highly -ve cirrelated -    -0.8\n",
    "### cyl,mpg- higly -ve correlated-    -0.78"
   ]
  },
  {
   "cell_type": "code",
   "execution_count": 22,
   "metadata": {},
   "outputs": [
    {
     "data": {
      "text/plain": [
       "<AxesSubplot:>"
      ]
     },
     "execution_count": 22,
     "metadata": {},
     "output_type": "execute_result"
    },
    {
     "data": {
      "image/png": "[encoded data removed]",
      "text/plain": [
       "<Figure size 432x288 with 2 Axes>"
      ]
     },
     "metadata": {
      "needs_background": "light"
     },
     "output_type": "display_data"
    }
   ],
   "source": [
    "sns.heatmap(corr,annot=True)"
   ]
  },
  {
   "cell_type": "markdown",
   "metadata": {},
   "source": [
    "# data analysis, manupulation"
   ]
  },
  {
   "cell_type": "code",
   "execution_count": 23,
   "metadata": {},
   "outputs": [],
   "source": [
    "df=df.drop(\"car name\",axis=1)\n",
    "#dropping \"car name\" column since it is of no big use as it is of str type"
   ]
  },
  {
   "cell_type": "code",
   "execution_count": 24,
   "metadata": {},
   "outputs": [
    {
     "data": {
      "text/html": [
       "<div>\n",
       "<style scoped>\n",
       "    .dataframe tbody tr th:only-of-type {\n",
       "        vertical-align: middle;\n",
       "    }\n",
       "\n",
       "    .dataframe tbody tr th {\n",
       "        vertical-align: top;\n",
       "    }\n",
       "\n",
       "    .dataframe thead th {\n",
       "        text-align: right;\n",
       "    }\n",
       "</style>\n",
       "<table border=\"1\" class=\"dataframe\">\n",
       "  <thead>\n",
       "    <tr style=\"text-align: right;\">\n",
       "      <th></th>\n",
       "      <th>mpg</th>\n",
       "      <th>cyl</th>\n",
       "      <th>disp</th>\n",
       "      <th>hp</th>\n",
       "      <th>wt</th>\n",
       "      <th>acc</th>\n",
       "      <th>yr</th>\n",
       "      <th>origin</th>\n",
       "    </tr>\n",
       "  </thead>\n",
       "  <tbody>\n",
       "    <tr>\n",
       "      <th>0</th>\n",
       "      <td>18.0</td>\n",
       "      <td>8</td>\n",
       "      <td>307.0</td>\n",
       "      <td>130</td>\n",
       "      <td>3504</td>\n",
       "      <td>12.0</td>\n",
       "      <td>70</td>\n",
       "      <td>1</td>\n",
       "    </tr>\n",
       "    <tr>\n",
       "      <th>1</th>\n",
       "      <td>15.0</td>\n",
       "      <td>8</td>\n",
       "      <td>350.0</td>\n",
       "      <td>165</td>\n",
       "      <td>3693</td>\n",
       "      <td>11.5</td>\n",
       "      <td>70</td>\n",
       "      <td>1</td>\n",
       "    </tr>\n",
       "    <tr>\n",
       "      <th>2</th>\n",
       "      <td>18.0</td>\n",
       "      <td>8</td>\n",
       "      <td>318.0</td>\n",
       "      <td>150</td>\n",
       "      <td>3436</td>\n",
       "      <td>11.0</td>\n",
       "      <td>70</td>\n",
       "      <td>1</td>\n",
       "    </tr>\n",
       "    <tr>\n",
       "      <th>3</th>\n",
       "      <td>16.0</td>\n",
       "      <td>8</td>\n",
       "      <td>304.0</td>\n",
       "      <td>150</td>\n",
       "      <td>3433</td>\n",
       "      <td>12.0</td>\n",
       "      <td>70</td>\n",
       "      <td>1</td>\n",
       "    </tr>\n",
       "    <tr>\n",
       "      <th>4</th>\n",
       "      <td>17.0</td>\n",
       "      <td>8</td>\n",
       "      <td>302.0</td>\n",
       "      <td>140</td>\n",
       "      <td>3449</td>\n",
       "      <td>10.5</td>\n",
       "      <td>70</td>\n",
       "      <td>1</td>\n",
       "    </tr>\n",
       "  </tbody>\n",
       "</table>\n",
       "</div>"
      ],
      "text/plain": [
       "    mpg  cyl   disp   hp    wt   acc  yr  origin\n",
       "0  18.0    8  307.0  130  3504  12.0  70       1\n",
       "1  15.0    8  350.0  165  3693  11.5  70       1\n",
       "2  18.0    8  318.0  150  3436  11.0  70       1\n",
       "3  16.0    8  304.0  150  3433  12.0  70       1\n",
       "4  17.0    8  302.0  140  3449  10.5  70       1"
      ]
     },
     "execution_count": 24,
     "metadata": {},
     "output_type": "execute_result"
    }
   ],
   "source": [
    "df.head()"
   ]
  },
  {
   "cell_type": "code",
   "execution_count": 25,
   "metadata": {},
   "outputs": [],
   "source": [
    "df[\"origin\"]=df[\"origin\"].replace({1:\"America\",2:\"Asia\",3:\"Europe\"})\n",
    "#replacing categircial 1s with repsective data"
   ]
  },
  {
   "cell_type": "code",
   "execution_count": 26,
   "metadata": {},
   "outputs": [
    {
     "data": {
      "text/html": [
       "<div>\n",
       "<style scoped>\n",
       "    .dataframe tbody tr th:only-of-type {\n",
       "        vertical-align: middle;\n",
       "    }\n",
       "\n",
       "    .dataframe tbody tr th {\n",
       "        vertical-align: top;\n",
       "    }\n",
       "\n",
       "    .dataframe thead th {\n",
       "        text-align: right;\n",
       "    }\n",
       "</style>\n",
       "<table border=\"1\" class=\"dataframe\">\n",
       "  <thead>\n",
       "    <tr style=\"text-align: right;\">\n",
       "      <th></th>\n",
       "      <th>mpg</th>\n",
       "      <th>cyl</th>\n",
       "      <th>disp</th>\n",
       "      <th>hp</th>\n",
       "      <th>wt</th>\n",
       "      <th>acc</th>\n",
       "      <th>yr</th>\n",
       "      <th>origin</th>\n",
       "    </tr>\n",
       "  </thead>\n",
       "  <tbody>\n",
       "    <tr>\n",
       "      <th>0</th>\n",
       "      <td>18.0</td>\n",
       "      <td>8</td>\n",
       "      <td>307.0</td>\n",
       "      <td>130</td>\n",
       "      <td>3504</td>\n",
       "      <td>12.0</td>\n",
       "      <td>70</td>\n",
       "      <td>America</td>\n",
       "    </tr>\n",
       "    <tr>\n",
       "      <th>1</th>\n",
       "      <td>15.0</td>\n",
       "      <td>8</td>\n",
       "      <td>350.0</td>\n",
       "      <td>165</td>\n",
       "      <td>3693</td>\n",
       "      <td>11.5</td>\n",
       "      <td>70</td>\n",
       "      <td>America</td>\n",
       "    </tr>\n",
       "    <tr>\n",
       "      <th>2</th>\n",
       "      <td>18.0</td>\n",
       "      <td>8</td>\n",
       "      <td>318.0</td>\n",
       "      <td>150</td>\n",
       "      <td>3436</td>\n",
       "      <td>11.0</td>\n",
       "      <td>70</td>\n",
       "      <td>America</td>\n",
       "    </tr>\n",
       "    <tr>\n",
       "      <th>3</th>\n",
       "      <td>16.0</td>\n",
       "      <td>8</td>\n",
       "      <td>304.0</td>\n",
       "      <td>150</td>\n",
       "      <td>3433</td>\n",
       "      <td>12.0</td>\n",
       "      <td>70</td>\n",
       "      <td>America</td>\n",
       "    </tr>\n",
       "    <tr>\n",
       "      <th>4</th>\n",
       "      <td>17.0</td>\n",
       "      <td>8</td>\n",
       "      <td>302.0</td>\n",
       "      <td>140</td>\n",
       "      <td>3449</td>\n",
       "      <td>10.5</td>\n",
       "      <td>70</td>\n",
       "      <td>America</td>\n",
       "    </tr>\n",
       "  </tbody>\n",
       "</table>\n",
       "</div>"
      ],
      "text/plain": [
       "    mpg  cyl   disp   hp    wt   acc  yr   origin\n",
       "0  18.0    8  307.0  130  3504  12.0  70  America\n",
       "1  15.0    8  350.0  165  3693  11.5  70  America\n",
       "2  18.0    8  318.0  150  3436  11.0  70  America\n",
       "3  16.0    8  304.0  150  3433  12.0  70  America\n",
       "4  17.0    8  302.0  140  3449  10.5  70  America"
      ]
     },
     "execution_count": 26,
     "metadata": {},
     "output_type": "execute_result"
    }
   ],
   "source": [
    "df.head()"
   ]
  },
  {
   "cell_type": "markdown",
   "metadata": {},
   "source": [
    "## One hot encoding"
   ]
  },
  {
   "cell_type": "code",
   "execution_count": 27,
   "metadata": {},
   "outputs": [
    {
     "data": {
      "text/html": [
       "<div>\n",
       "<style scoped>\n",
       "    .dataframe tbody tr th:only-of-type {\n",
       "        vertical-align: middle;\n",
       "    }\n",
       "\n",
       "    .dataframe tbody tr th {\n",
       "        vertical-align: top;\n",
       "    }\n",
       "\n",
       "    .dataframe thead th {\n",
       "        text-align: right;\n",
       "    }\n",
       "</style>\n",
       "<table border=\"1\" class=\"dataframe\">\n",
       "  <thead>\n",
       "    <tr style=\"text-align: right;\">\n",
       "      <th></th>\n",
       "      <th>mpg</th>\n",
       "      <th>cyl</th>\n",
       "      <th>disp</th>\n",
       "      <th>hp</th>\n",
       "      <th>wt</th>\n",
       "      <th>acc</th>\n",
       "      <th>yr</th>\n",
       "      <th>origin_America</th>\n",
       "      <th>origin_Asia</th>\n",
       "      <th>origin_Europe</th>\n",
       "    </tr>\n",
       "  </thead>\n",
       "  <tbody>\n",
       "    <tr>\n",
       "      <th>0</th>\n",
       "      <td>18.0</td>\n",
       "      <td>8</td>\n",
       "      <td>307.0</td>\n",
       "      <td>130</td>\n",
       "      <td>3504</td>\n",
       "      <td>12.0</td>\n",
       "      <td>70</td>\n",
       "      <td>1</td>\n",
       "      <td>0</td>\n",
       "      <td>0</td>\n",
       "    </tr>\n",
       "    <tr>\n",
       "      <th>1</th>\n",
       "      <td>15.0</td>\n",
       "      <td>8</td>\n",
       "      <td>350.0</td>\n",
       "      <td>165</td>\n",
       "      <td>3693</td>\n",
       "      <td>11.5</td>\n",
       "      <td>70</td>\n",
       "      <td>1</td>\n",
       "      <td>0</td>\n",
       "      <td>0</td>\n",
       "    </tr>\n",
       "    <tr>\n",
       "      <th>2</th>\n",
       "      <td>18.0</td>\n",
       "      <td>8</td>\n",
       "      <td>318.0</td>\n",
       "      <td>150</td>\n",
       "      <td>3436</td>\n",
       "      <td>11.0</td>\n",
       "      <td>70</td>\n",
       "      <td>1</td>\n",
       "      <td>0</td>\n",
       "      <td>0</td>\n",
       "    </tr>\n",
       "    <tr>\n",
       "      <th>3</th>\n",
       "      <td>16.0</td>\n",
       "      <td>8</td>\n",
       "      <td>304.0</td>\n",
       "      <td>150</td>\n",
       "      <td>3433</td>\n",
       "      <td>12.0</td>\n",
       "      <td>70</td>\n",
       "      <td>1</td>\n",
       "      <td>0</td>\n",
       "      <td>0</td>\n",
       "    </tr>\n",
       "    <tr>\n",
       "      <th>4</th>\n",
       "      <td>17.0</td>\n",
       "      <td>8</td>\n",
       "      <td>302.0</td>\n",
       "      <td>140</td>\n",
       "      <td>3449</td>\n",
       "      <td>10.5</td>\n",
       "      <td>70</td>\n",
       "      <td>1</td>\n",
       "      <td>0</td>\n",
       "      <td>0</td>\n",
       "    </tr>\n",
       "  </tbody>\n",
       "</table>\n",
       "</div>"
      ],
      "text/plain": [
       "    mpg  cyl   disp   hp    wt   acc  yr  origin_America  origin_Asia  \\\n",
       "0  18.0    8  307.0  130  3504  12.0  70               1            0   \n",
       "1  15.0    8  350.0  165  3693  11.5  70               1            0   \n",
       "2  18.0    8  318.0  150  3436  11.0  70               1            0   \n",
       "3  16.0    8  304.0  150  3433  12.0  70               1            0   \n",
       "4  17.0    8  302.0  140  3449  10.5  70               1            0   \n",
       "\n",
       "   origin_Europe  \n",
       "0              0  \n",
       "1              0  \n",
       "2              0  \n",
       "3              0  \n",
       "4              0  "
      ]
     },
     "execution_count": 27,
     "metadata": {},
     "output_type": "execute_result"
    }
   ],
   "source": [
    "df=pd.get_dummies(df,columns=[\"origin\"])\n",
    "df.head()\n",
    "#create new columns for new categorical"
   ]
  },
  {
   "cell_type": "code",
   "execution_count": 28,
   "metadata": {},
   "outputs": [],
   "source": [
    "hpdigit=pd.DataFrame(df[\"hp\"].str.isdigit())\n",
    "#creates boolean dataframe "
   ]
  },
  {
   "cell_type": "code",
   "execution_count": 29,
   "metadata": {},
   "outputs": [
    {
     "name": "stdout",
     "output_type": "stream",
     "text": [
      "<class 'pandas.core.frame.DataFrame'>\n",
      "RangeIndex: 398 entries, 0 to 397\n",
      "Data columns (total 1 columns):\n",
      " #   Column  Non-Null Count  Dtype\n",
      "---  ------  --------------  -----\n",
      " 0   hp      398 non-null    bool \n",
      "dtypes: bool(1)\n",
      "memory usage: 526.0 bytes\n"
     ]
    }
   ],
   "source": [
    "hpdigit.info()"
   ]
  },
  {
   "cell_type": "code",
   "execution_count": 30,
   "metadata": {},
   "outputs": [
    {
     "data": {
      "text/html": [
       "<div>\n",
       "<style scoped>\n",
       "    .dataframe tbody tr th:only-of-type {\n",
       "        vertical-align: middle;\n",
       "    }\n",
       "\n",
       "    .dataframe tbody tr th {\n",
       "        vertical-align: top;\n",
       "    }\n",
       "\n",
       "    .dataframe thead th {\n",
       "        text-align: right;\n",
       "    }\n",
       "</style>\n",
       "<table border=\"1\" class=\"dataframe\">\n",
       "  <thead>\n",
       "    <tr style=\"text-align: right;\">\n",
       "      <th></th>\n",
       "      <th>mpg</th>\n",
       "      <th>cyl</th>\n",
       "      <th>disp</th>\n",
       "      <th>hp</th>\n",
       "      <th>wt</th>\n",
       "      <th>acc</th>\n",
       "      <th>yr</th>\n",
       "      <th>origin_America</th>\n",
       "      <th>origin_Asia</th>\n",
       "      <th>origin_Europe</th>\n",
       "    </tr>\n",
       "  </thead>\n",
       "  <tbody>\n",
       "    <tr>\n",
       "      <th>32</th>\n",
       "      <td>25.0</td>\n",
       "      <td>4</td>\n",
       "      <td>98.0</td>\n",
       "      <td>?</td>\n",
       "      <td>2046</td>\n",
       "      <td>19.0</td>\n",
       "      <td>71</td>\n",
       "      <td>1</td>\n",
       "      <td>0</td>\n",
       "      <td>0</td>\n",
       "    </tr>\n",
       "    <tr>\n",
       "      <th>126</th>\n",
       "      <td>21.0</td>\n",
       "      <td>6</td>\n",
       "      <td>200.0</td>\n",
       "      <td>?</td>\n",
       "      <td>2875</td>\n",
       "      <td>17.0</td>\n",
       "      <td>74</td>\n",
       "      <td>1</td>\n",
       "      <td>0</td>\n",
       "      <td>0</td>\n",
       "    </tr>\n",
       "    <tr>\n",
       "      <th>330</th>\n",
       "      <td>40.9</td>\n",
       "      <td>4</td>\n",
       "      <td>85.0</td>\n",
       "      <td>?</td>\n",
       "      <td>1835</td>\n",
       "      <td>17.3</td>\n",
       "      <td>80</td>\n",
       "      <td>0</td>\n",
       "      <td>1</td>\n",
       "      <td>0</td>\n",
       "    </tr>\n",
       "    <tr>\n",
       "      <th>336</th>\n",
       "      <td>23.6</td>\n",
       "      <td>4</td>\n",
       "      <td>140.0</td>\n",
       "      <td>?</td>\n",
       "      <td>2905</td>\n",
       "      <td>14.3</td>\n",
       "      <td>80</td>\n",
       "      <td>1</td>\n",
       "      <td>0</td>\n",
       "      <td>0</td>\n",
       "    </tr>\n",
       "    <tr>\n",
       "      <th>354</th>\n",
       "      <td>34.5</td>\n",
       "      <td>4</td>\n",
       "      <td>100.0</td>\n",
       "      <td>?</td>\n",
       "      <td>2320</td>\n",
       "      <td>15.8</td>\n",
       "      <td>81</td>\n",
       "      <td>0</td>\n",
       "      <td>1</td>\n",
       "      <td>0</td>\n",
       "    </tr>\n",
       "    <tr>\n",
       "      <th>374</th>\n",
       "      <td>23.0</td>\n",
       "      <td>4</td>\n",
       "      <td>151.0</td>\n",
       "      <td>?</td>\n",
       "      <td>3035</td>\n",
       "      <td>20.5</td>\n",
       "      <td>82</td>\n",
       "      <td>1</td>\n",
       "      <td>0</td>\n",
       "      <td>0</td>\n",
       "    </tr>\n",
       "  </tbody>\n",
       "</table>\n",
       "</div>"
      ],
      "text/plain": [
       "      mpg  cyl   disp hp    wt   acc  yr  origin_America  origin_Asia  \\\n",
       "32   25.0    4   98.0  ?  2046  19.0  71               1            0   \n",
       "126  21.0    6  200.0  ?  2875  17.0  74               1            0   \n",
       "330  40.9    4   85.0  ?  1835  17.3  80               0            1   \n",
       "336  23.6    4  140.0  ?  2905  14.3  80               1            0   \n",
       "354  34.5    4  100.0  ?  2320  15.8  81               0            1   \n",
       "374  23.0    4  151.0  ?  3035  20.5  82               1            0   \n",
       "\n",
       "     origin_Europe  \n",
       "32               0  \n",
       "126              0  \n",
       "330              0  \n",
       "336              0  \n",
       "354              0  \n",
       "374              0  "
      ]
     },
     "execution_count": 30,
     "metadata": {},
     "output_type": "execute_result"
    }
   ],
   "source": [
    "df[hpdigit[\"hp\"]==False]\n",
    "#retunns rows of df which has strings in it"
   ]
  },
  {
   "cell_type": "code",
   "execution_count": 31,
   "metadata": {
    "scrolled": true
   },
   "outputs": [
    {
     "data": {
      "text/html": [
       "<div>\n",
       "<style scoped>\n",
       "    .dataframe tbody tr th:only-of-type {\n",
       "        vertical-align: middle;\n",
       "    }\n",
       "\n",
       "    .dataframe tbody tr th {\n",
       "        vertical-align: top;\n",
       "    }\n",
       "\n",
       "    .dataframe thead th {\n",
       "        text-align: right;\n",
       "    }\n",
       "</style>\n",
       "<table border=\"1\" class=\"dataframe\">\n",
       "  <thead>\n",
       "    <tr style=\"text-align: right;\">\n",
       "      <th></th>\n",
       "      <th>mpg</th>\n",
       "      <th>cyl</th>\n",
       "      <th>disp</th>\n",
       "      <th>hp</th>\n",
       "      <th>wt</th>\n",
       "      <th>acc</th>\n",
       "      <th>yr</th>\n",
       "      <th>origin_America</th>\n",
       "      <th>origin_Asia</th>\n",
       "      <th>origin_Europe</th>\n",
       "    </tr>\n",
       "  </thead>\n",
       "  <tbody>\n",
       "    <tr>\n",
       "      <th>32</th>\n",
       "      <td>25.0</td>\n",
       "      <td>4</td>\n",
       "      <td>98.0</td>\n",
       "      <td>NaN</td>\n",
       "      <td>2046</td>\n",
       "      <td>19.0</td>\n",
       "      <td>71</td>\n",
       "      <td>1</td>\n",
       "      <td>0</td>\n",
       "      <td>0</td>\n",
       "    </tr>\n",
       "    <tr>\n",
       "      <th>126</th>\n",
       "      <td>21.0</td>\n",
       "      <td>6</td>\n",
       "      <td>200.0</td>\n",
       "      <td>NaN</td>\n",
       "      <td>2875</td>\n",
       "      <td>17.0</td>\n",
       "      <td>74</td>\n",
       "      <td>1</td>\n",
       "      <td>0</td>\n",
       "      <td>0</td>\n",
       "    </tr>\n",
       "    <tr>\n",
       "      <th>330</th>\n",
       "      <td>40.9</td>\n",
       "      <td>4</td>\n",
       "      <td>85.0</td>\n",
       "      <td>NaN</td>\n",
       "      <td>1835</td>\n",
       "      <td>17.3</td>\n",
       "      <td>80</td>\n",
       "      <td>0</td>\n",
       "      <td>1</td>\n",
       "      <td>0</td>\n",
       "    </tr>\n",
       "    <tr>\n",
       "      <th>336</th>\n",
       "      <td>23.6</td>\n",
       "      <td>4</td>\n",
       "      <td>140.0</td>\n",
       "      <td>NaN</td>\n",
       "      <td>2905</td>\n",
       "      <td>14.3</td>\n",
       "      <td>80</td>\n",
       "      <td>1</td>\n",
       "      <td>0</td>\n",
       "      <td>0</td>\n",
       "    </tr>\n",
       "    <tr>\n",
       "      <th>354</th>\n",
       "      <td>34.5</td>\n",
       "      <td>4</td>\n",
       "      <td>100.0</td>\n",
       "      <td>NaN</td>\n",
       "      <td>2320</td>\n",
       "      <td>15.8</td>\n",
       "      <td>81</td>\n",
       "      <td>0</td>\n",
       "      <td>1</td>\n",
       "      <td>0</td>\n",
       "    </tr>\n",
       "    <tr>\n",
       "      <th>374</th>\n",
       "      <td>23.0</td>\n",
       "      <td>4</td>\n",
       "      <td>151.0</td>\n",
       "      <td>NaN</td>\n",
       "      <td>3035</td>\n",
       "      <td>20.5</td>\n",
       "      <td>82</td>\n",
       "      <td>1</td>\n",
       "      <td>0</td>\n",
       "      <td>0</td>\n",
       "    </tr>\n",
       "  </tbody>\n",
       "</table>\n",
       "</div>"
      ],
      "text/plain": [
       "      mpg  cyl   disp   hp    wt   acc  yr  origin_America  origin_Asia  \\\n",
       "32   25.0    4   98.0  NaN  2046  19.0  71               1            0   \n",
       "126  21.0    6  200.0  NaN  2875  17.0  74               1            0   \n",
       "330  40.9    4   85.0  NaN  1835  17.3  80               0            1   \n",
       "336  23.6    4  140.0  NaN  2905  14.3  80               1            0   \n",
       "354  34.5    4  100.0  NaN  2320  15.8  81               0            1   \n",
       "374  23.0    4  151.0  NaN  3035  20.5  82               1            0   \n",
       "\n",
       "     origin_Europe  \n",
       "32               0  \n",
       "126              0  \n",
       "330              0  \n",
       "336              0  \n",
       "354              0  \n",
       "374              0  "
      ]
     },
     "execution_count": 31,
     "metadata": {},
     "output_type": "execute_result"
    }
   ],
   "source": [
    "df[\"hp\"]=df[\"hp\"].replace('?',np.NaN)\n",
    "df[hpdigit[\"hp\"]==False]\n",
    "#replace ? with Nan\n",
    "#NOTE - Always update df with df.replace()"
   ]
  },
  {
   "cell_type": "code",
   "execution_count": 32,
   "metadata": {},
   "outputs": [
    {
     "data": {
      "text/plain": [
       "mpg                 23.0\n",
       "cyl                  4.0\n",
       "disp               148.5\n",
       "hp                  93.5\n",
       "wt                2803.5\n",
       "acc                 15.5\n",
       "yr                  76.0\n",
       "origin_America       1.0\n",
       "origin_Asia          0.0\n",
       "origin_Europe        0.0\n",
       "dtype: float64"
      ]
     },
     "execution_count": 32,
     "metadata": {},
     "output_type": "execute_result"
    }
   ],
   "source": [
    "df.median()"
   ]
  },
  {
   "cell_type": "code",
   "execution_count": 33,
   "metadata": {},
   "outputs": [],
   "source": [
    "df['hp']=df['hp'].astype(float)"
   ]
  },
  {
   "cell_type": "code",
   "execution_count": 34,
   "metadata": {},
   "outputs": [
    {
     "name": "stdout",
     "output_type": "stream",
     "text": [
      "<class 'pandas.core.frame.DataFrame'>\n",
      "RangeIndex: 398 entries, 0 to 397\n",
      "Data columns (total 10 columns):\n",
      " #   Column          Non-Null Count  Dtype  \n",
      "---  ------          --------------  -----  \n",
      " 0   mpg             398 non-null    float64\n",
      " 1   cyl             398 non-null    int64  \n",
      " 2   disp            398 non-null    float64\n",
      " 3   hp              392 non-null    float64\n",
      " 4   wt              398 non-null    int64  \n",
      " 5   acc             398 non-null    float64\n",
      " 6   yr              398 non-null    int64  \n",
      " 7   origin_America  398 non-null    uint8  \n",
      " 8   origin_Asia     398 non-null    uint8  \n",
      " 9   origin_Europe   398 non-null    uint8  \n",
      "dtypes: float64(4), int64(3), uint8(3)\n",
      "memory usage: 23.1 KB\n"
     ]
    }
   ],
   "source": [
    "df.info()"
   ]
  },
  {
   "cell_type": "code",
   "execution_count": 35,
   "metadata": {},
   "outputs": [],
   "source": [
    "df=df.fillna(df.median())\n",
    "#fill null values with medians of that column"
   ]
  },
  {
   "cell_type": "markdown",
   "metadata": {},
   "source": [
    "### scaling"
   ]
  },
  {
   "cell_type": "code",
   "execution_count": 36,
   "metadata": {},
   "outputs": [],
   "source": [
    "from sklearn.preprocessing import StandardScaler"
   ]
  },
  {
   "cell_type": "code",
   "execution_count": 37,
   "metadata": {},
   "outputs": [
    {
     "data": {
      "text/plain": [
       "StandardScaler()"
      ]
     },
     "execution_count": 37,
     "metadata": {},
     "output_type": "execute_result"
    }
   ],
   "source": [
    "stdscale=StandardScaler()\n",
    "stdscale"
   ]
  },
  {
   "cell_type": "code",
   "execution_count": 38,
   "metadata": {},
   "outputs": [],
   "source": [
    "df[\"cyl\"]= stdscale. fit_transform(df[[\"cyl\"]])\n",
    "df[\"disp\"]= stdscale. fit_transform(df[[\"disp\"]])\n",
    "df[\"hp\"]= stdscale. fit_transform(df[[\"hp\"]])\n",
    "df[\"wt\"]= stdscale. fit_transform(df[[\"wt\"]])\n",
    "df[\"acc\"]= stdscale. fit_transform(df[[\"acc\"]])"
   ]
  },
  {
   "cell_type": "code",
   "execution_count": 39,
   "metadata": {},
   "outputs": [
    {
     "data": {
      "text/html": [
       "<div>\n",
       "<style scoped>\n",
       "    .dataframe tbody tr th:only-of-type {\n",
       "        vertical-align: middle;\n",
       "    }\n",
       "\n",
       "    .dataframe tbody tr th {\n",
       "        vertical-align: top;\n",
       "    }\n",
       "\n",
       "    .dataframe thead th {\n",
       "        text-align: right;\n",
       "    }\n",
       "</style>\n",
       "<table border=\"1\" class=\"dataframe\">\n",
       "  <thead>\n",
       "    <tr style=\"text-align: right;\">\n",
       "      <th></th>\n",
       "      <th>mpg</th>\n",
       "      <th>cyl</th>\n",
       "      <th>disp</th>\n",
       "      <th>hp</th>\n",
       "      <th>wt</th>\n",
       "      <th>acc</th>\n",
       "      <th>yr</th>\n",
       "      <th>origin_America</th>\n",
       "      <th>origin_Asia</th>\n",
       "      <th>origin_Europe</th>\n",
       "    </tr>\n",
       "  </thead>\n",
       "  <tbody>\n",
       "    <tr>\n",
       "      <th>0</th>\n",
       "      <td>18.0</td>\n",
       "      <td>1.498191</td>\n",
       "      <td>1.090604</td>\n",
       "      <td>0.673118</td>\n",
       "      <td>0.630870</td>\n",
       "      <td>-1.295498</td>\n",
       "      <td>70</td>\n",
       "      <td>1</td>\n",
       "      <td>0</td>\n",
       "      <td>0</td>\n",
       "    </tr>\n",
       "    <tr>\n",
       "      <th>33</th>\n",
       "      <td>19.0</td>\n",
       "      <td>0.320935</td>\n",
       "      <td>0.370411</td>\n",
       "      <td>-0.112746</td>\n",
       "      <td>-0.397770</td>\n",
       "      <td>-0.932419</td>\n",
       "      <td>71</td>\n",
       "      <td>1</td>\n",
       "      <td>0</td>\n",
       "      <td>0</td>\n",
       "    </tr>\n",
       "    <tr>\n",
       "      <th>131</th>\n",
       "      <td>32.0</td>\n",
       "      <td>-0.856321</td>\n",
       "      <td>-1.175603</td>\n",
       "      <td>-1.029586</td>\n",
       "      <td>-1.341281</td>\n",
       "      <td>1.972212</td>\n",
       "      <td>74</td>\n",
       "      <td>0</td>\n",
       "      <td>0</td>\n",
       "      <td>1</td>\n",
       "    </tr>\n",
       "    <tr>\n",
       "      <th>10</th>\n",
       "      <td>15.0</td>\n",
       "      <td>1.498191</td>\n",
       "      <td>1.820399</td>\n",
       "      <td>1.720935</td>\n",
       "      <td>0.700628</td>\n",
       "      <td>-2.021656</td>\n",
       "      <td>70</td>\n",
       "      <td>1</td>\n",
       "      <td>0</td>\n",
       "      <td>0</td>\n",
       "    </tr>\n",
       "    <tr>\n",
       "      <th>23</th>\n",
       "      <td>26.0</td>\n",
       "      <td>-0.856321</td>\n",
       "      <td>-0.695475</td>\n",
       "      <td>0.227795</td>\n",
       "      <td>-0.870708</td>\n",
       "      <td>-1.113959</td>\n",
       "      <td>70</td>\n",
       "      <td>0</td>\n",
       "      <td>1</td>\n",
       "      <td>0</td>\n",
       "    </tr>\n",
       "    <tr>\n",
       "      <th>35</th>\n",
       "      <td>17.0</td>\n",
       "      <td>0.320935</td>\n",
       "      <td>0.543257</td>\n",
       "      <td>-0.112746</td>\n",
       "      <td>0.423960</td>\n",
       "      <td>-0.024722</td>\n",
       "      <td>71</td>\n",
       "      <td>1</td>\n",
       "      <td>0</td>\n",
       "      <td>0</td>\n",
       "    </tr>\n",
       "    <tr>\n",
       "      <th>179</th>\n",
       "      <td>22.0</td>\n",
       "      <td>-0.856321</td>\n",
       "      <td>-0.695475</td>\n",
       "      <td>-0.165137</td>\n",
       "      <td>-0.030061</td>\n",
       "      <td>-0.387801</td>\n",
       "      <td>75</td>\n",
       "      <td>0</td>\n",
       "      <td>1</td>\n",
       "      <td>0</td>\n",
       "    </tr>\n",
       "    <tr>\n",
       "      <th>32</th>\n",
       "      <td>25.0</td>\n",
       "      <td>-0.856321</td>\n",
       "      <td>-0.916334</td>\n",
       "      <td>-0.283016</td>\n",
       "      <td>-1.092988</td>\n",
       "      <td>1.246054</td>\n",
       "      <td>71</td>\n",
       "      <td>1</td>\n",
       "      <td>0</td>\n",
       "      <td>0</td>\n",
       "    </tr>\n",
       "    <tr>\n",
       "      <th>41</th>\n",
       "      <td>14.0</td>\n",
       "      <td>1.498191</td>\n",
       "      <td>1.196232</td>\n",
       "      <td>1.197027</td>\n",
       "      <td>1.330818</td>\n",
       "      <td>-0.932419</td>\n",
       "      <td>71</td>\n",
       "      <td>1</td>\n",
       "      <td>0</td>\n",
       "      <td>0</td>\n",
       "    </tr>\n",
       "    <tr>\n",
       "      <th>370</th>\n",
       "      <td>31.0</td>\n",
       "      <td>-0.856321</td>\n",
       "      <td>-0.781898</td>\n",
       "      <td>-0.505677</td>\n",
       "      <td>-0.467528</td>\n",
       "      <td>0.229433</td>\n",
       "      <td>82</td>\n",
       "      <td>1</td>\n",
       "      <td>0</td>\n",
       "      <td>0</td>\n",
       "    </tr>\n",
       "  </tbody>\n",
       "</table>\n",
       "</div>"
      ],
      "text/plain": [
       "      mpg       cyl      disp        hp        wt       acc  yr  \\\n",
       "0    18.0  1.498191  1.090604  0.673118  0.630870 -1.295498  70   \n",
       "33   19.0  0.320935  0.370411 -0.112746 -0.397770 -0.932419  71   \n",
       "131  32.0 -0.856321 -1.175603 -1.029586 -1.341281  1.972212  74   \n",
       "10   15.0  1.498191  1.820399  1.720935  0.700628 -2.021656  70   \n",
       "23   26.0 -0.856321 -0.695475  0.227795 -0.870708 -1.113959  70   \n",
       "35   17.0  0.320935  0.543257 -0.112746  0.423960 -0.024722  71   \n",
       "179  22.0 -0.856321 -0.695475 -0.165137 -0.030061 -0.387801  75   \n",
       "32   25.0 -0.856321 -0.916334 -0.283016 -1.092988  1.246054  71   \n",
       "41   14.0  1.498191  1.196232  1.197027  1.330818 -0.932419  71   \n",
       "370  31.0 -0.856321 -0.781898 -0.505677 -0.467528  0.229433  82   \n",
       "\n",
       "     origin_America  origin_Asia  origin_Europe  \n",
       "0                 1            0              0  \n",
       "33                1            0              0  \n",
       "131               0            0              1  \n",
       "10                1            0              0  \n",
       "23                0            1              0  \n",
       "35                1            0              0  \n",
       "179               0            1              0  \n",
       "32                1            0              0  \n",
       "41                1            0              0  \n",
       "370               1            0              0  "
      ]
     },
     "execution_count": 39,
     "metadata": {},
     "output_type": "execute_result"
    }
   ],
   "source": [
    "df.sample(10)"
   ]
  },
  {
   "cell_type": "markdown",
   "metadata": {},
   "source": [
    "## split data"
   ]
  },
  {
   "cell_type": "code",
   "execution_count": 40,
   "metadata": {},
   "outputs": [],
   "source": [
    "x=df.drop([\"mpg\"],axis=1)"
   ]
  },
  {
   "cell_type": "code",
   "execution_count": 41,
   "metadata": {},
   "outputs": [],
   "source": [
    "y=df[\"mpg\"]"
   ]
  },
  {
   "cell_type": "code",
   "execution_count": 42,
   "metadata": {},
   "outputs": [],
   "source": [
    "x_train,x_test,y_train,y_test=train_test_split(x,y,test_size=0.30,random_state=1)"
   ]
  },
  {
   "cell_type": "markdown",
   "metadata": {},
   "source": [
    "# fit linear model\n"
   ]
  },
  {
   "cell_type": "code",
   "execution_count": 43,
   "metadata": {},
   "outputs": [],
   "source": [
    "reg_model=LinearRegression()"
   ]
  },
  {
   "cell_type": "markdown",
   "metadata": {},
   "source": [
    "### exp1"
   ]
  },
  {
   "cell_type": "code",
   "execution_count": 44,
   "metadata": {},
   "outputs": [
    {
     "data": {
      "text/plain": [
       "LinearRegression()"
      ]
     },
     "execution_count": 44,
     "metadata": {},
     "output_type": "execute_result"
    }
   ],
   "source": [
    "reg_model.fit(x_train,y_train)"
   ]
  },
  {
   "cell_type": "code",
   "execution_count": 45,
   "metadata": {},
   "outputs": [
    {
     "data": {
      "text/plain": [
       "0.8141025501610559"
      ]
     },
     "execution_count": 45,
     "metadata": {},
     "output_type": "execute_result"
    }
   ],
   "source": [
    "reg_model.score(x_train,y_train)"
   ]
  },
  {
   "cell_type": "code",
   "execution_count": 46,
   "metadata": {},
   "outputs": [
    {
     "data": {
      "text/plain": [
       "0.843313513280883"
      ]
     },
     "execution_count": 46,
     "metadata": {},
     "output_type": "execute_result"
    }
   ],
   "source": [
    "reg_model.score(x_test,y_test)"
   ]
  },
  {
   "cell_type": "code",
   "execution_count": 47,
   "metadata": {},
   "outputs": [
    {
     "name": "stdout",
     "output_type": "stream",
     "text": [
      "train rms 3.3943230562019435\n",
      "reg_score 0.8141025501610559\n",
      "rms_test 3.0267110332771368\n",
      "reg_score 0.843313513280883\n"
     ]
    }
   ],
   "source": [
    "pred_train_lr= reg_model.predict(x_train)\n",
    "print('train rms',np.sqrt(mean_squared_error(y_train,pred_train_lr)))\n",
    "print('reg_score',r2_score(y_train, pred_train_lr))\n",
    "\n",
    "pred_test_lr= reg_model.predict(x_test)\n",
    "print('rms_test',np.sqrt(mean_squared_error(y_test,pred_test_lr))) \n",
    "print('reg_score',r2_score(y_test, pred_test_lr))"
   ]
  },
  {
   "cell_type": "markdown",
   "metadata": {},
   "source": [
    "### Here are the coefficients for each variable and the intercept"
   ]
  },
  {
   "cell_type": "code",
   "execution_count": 48,
   "metadata": {},
   "outputs": [
    {
     "data": {
      "text/plain": [
       "array([-0.67072581,  3.0143497 , -0.83038131, -6.21818134,  0.1705397 ,\n",
       "        0.83693389, -1.79884935,  1.20243366,  0.59641569])"
      ]
     },
     "execution_count": 48,
     "metadata": {},
     "output_type": "execute_result"
    }
   ],
   "source": [
    "reg_model.coef_"
   ]
  },
  {
   "cell_type": "markdown",
   "metadata": {},
   "source": [
    "### exp 2"
   ]
  },
  {
   "cell_type": "code",
   "execution_count": 49,
   "metadata": {},
   "outputs": [],
   "source": [
    "x2=df.drop([\"mpg\",\"cyl\",],axis=1)\n",
    "y2=df[\"mpg\"]"
   ]
  },
  {
   "cell_type": "code",
   "execution_count": 50,
   "metadata": {},
   "outputs": [],
   "source": [
    "x_train2,x_test2,y_train2,y_test2=train_test_split(x2,y2,test_size=0.30,random_state=1)"
   ]
  },
  {
   "cell_type": "code",
   "execution_count": 51,
   "metadata": {},
   "outputs": [
    {
     "data": {
      "text/plain": [
       "LinearRegression()"
      ]
     },
     "execution_count": 51,
     "metadata": {},
     "output_type": "execute_result"
    }
   ],
   "source": [
    "reg_model.fit(x_train2,y_train2)"
   ]
  },
  {
   "cell_type": "code",
   "execution_count": 52,
   "metadata": {},
   "outputs": [
    {
     "data": {
      "text/plain": [
       "0.8415081730288689"
      ]
     },
     "execution_count": 52,
     "metadata": {},
     "output_type": "execute_result"
    }
   ],
   "source": [
    "reg_model.score(x_test2,y_test2)\n",
    "#train score increased from exp1"
   ]
  },
  {
   "cell_type": "code",
   "execution_count": 53,
   "metadata": {},
   "outputs": [
    {
     "data": {
      "text/plain": [
       "0.813501459816031"
      ]
     },
     "execution_count": 53,
     "metadata": {},
     "output_type": "execute_result"
    }
   ],
   "source": [
    "reg_model.score(x_train2,y_train2)\n",
    "#score reduce form exp1 "
   ]
  },
  {
   "cell_type": "markdown",
   "metadata": {},
   "source": [
    "### exp 3"
   ]
  },
  {
   "cell_type": "code",
   "execution_count": 54,
   "metadata": {},
   "outputs": [
    {
     "data": {
      "text/plain": [
       "0.8442106380309768"
      ]
     },
     "execution_count": 54,
     "metadata": {},
     "output_type": "execute_result"
    }
   ],
   "source": [
    "x3=df.drop([\"mpg\",\"cyl\",\"disp\"],axis=1)\n",
    "y3=df[\"mpg\"]\n",
    "\n",
    "x_train3,x_test3,y_train3,y_test3=train_test_split(x3,y3,test_size=0.30,random_state=1)\n",
    "\n",
    "reg_model.fit(x_train3,y_train3)\n",
    "\n",
    "reg_model.score(x_train3,y_train3)\n",
    "\n",
    "reg_model.score(x_test3,y_test3)\n",
    "#train score increased from exp1,2"
   ]
  },
  {
   "cell_type": "code",
   "execution_count": 55,
   "metadata": {},
   "outputs": [
    {
     "data": {
      "text/plain": [
       "0.8070549863555473"
      ]
     },
     "execution_count": 55,
     "metadata": {},
     "output_type": "execute_result"
    }
   ],
   "source": [
    "reg_model.score(x_train3,y_train3)\n",
    "#got lower score than 1,2"
   ]
  },
  {
   "cell_type": "markdown",
   "metadata": {},
   "source": [
    "### exp 4"
   ]
  },
  {
   "cell_type": "code",
   "execution_count": 56,
   "metadata": {},
   "outputs": [
    {
     "data": {
      "text/plain": [
       "0.8451964856669254"
      ]
     },
     "execution_count": 56,
     "metadata": {},
     "output_type": "execute_result"
    }
   ],
   "source": [
    "x4=df.drop([\"mpg\",\"cyl\",\"disp\",\"acc\"],axis=1)\n",
    "y4=df[\"mpg\"]\n",
    "\n",
    "x_train4,x_test4,y_train4,y_test4=train_test_split(x4,y4,test_size=0.30,random_state=1)\n",
    "\n",
    "reg_model.fit(x_train4,y_train4)\n",
    "\n",
    "\n",
    "\n",
    "reg_model.score(x_test4,y_test4)\n",
    "#train score increased from exp1,2,3"
   ]
  },
  {
   "cell_type": "code",
   "execution_count": 57,
   "metadata": {},
   "outputs": [
    {
     "data": {
      "text/plain": [
       "0.8070013661875717"
      ]
     },
     "execution_count": 57,
     "metadata": {},
     "output_type": "execute_result"
    }
   ],
   "source": [
    "reg_model.score(x_train4,y_train4)\n",
    "#lesser than exp 1,2,3"
   ]
  },
  {
   "cell_type": "markdown",
   "metadata": {},
   "source": [
    "### exp 5"
   ]
  },
  {
   "cell_type": "code",
   "execution_count": 58,
   "metadata": {},
   "outputs": [
    {
     "name": "stdout",
     "output_type": "stream",
     "text": [
      "0.8070013661875717\n",
      "0.8451964856669254\n"
     ]
    }
   ],
   "source": [
    "x5=df.drop([\"mpg\",\"cyl\",\"disp\",\"acc\"],axis=1)\n",
    "y5=df[\"mpg\"]\n",
    "\n",
    "x_train5,x_test5,y_train5,y_test5=train_test_split(x5,y5,test_size=0.30,random_state=1)\n",
    "\n",
    "reg_model.fit(x_train5,y_train5)\n",
    "\n",
    "print(reg_model.score(x_train5,y_train5))\n",
    "\n",
    "print(reg_model.score(x_test5,y_test5))\n",
    "#score reduced---- dont remove origin column"
   ]
  },
  {
   "cell_type": "markdown",
   "metadata": {},
   "source": [
    "## Polymonial fiiting"
   ]
  },
  {
   "cell_type": "code",
   "execution_count": 59,
   "metadata": {},
   "outputs": [
    {
     "name": "stdout",
     "output_type": "stream",
     "text": [
      "0.8999822001947713\n",
      "0.862012960982464\n"
     ]
    }
   ],
   "source": [
    "from sklearn.preprocessing import PolynomialFeatures\n",
    "from sklearn import linear_model\n",
    "\n",
    "poly = PolynomialFeatures(degree=2, interaction_only=True)\n",
    "Xpol_train = poly.fit_transform(x_train)\n",
    "Xpol_test = poly.fit_transform(x_test)\n",
    "\n",
    "poly_clf = linear_model.LinearRegression()\n",
    "\n",
    "poly_clf.fit(Xpol_train, y_train)\n",
    "\n",
    "y_pred = poly_clf.predict(Xpol_test)\n",
    "\n",
    "#print(y_pred)\n",
    "\n",
    "#In sample (training) R^2 will always improve with the number of variables!\n",
    "print(poly_clf.score(Xpol_train, y_train))\n",
    "print(poly_clf.score(Xpol_test, y_test))"
   ]
  },
  {
   "cell_type": "code",
   "execution_count": 60,
   "metadata": {},
   "outputs": [
    {
     "name": "stdout",
     "output_type": "stream",
     "text": [
      "(278, 46)\n",
      "(278, 46)\n"
     ]
    }
   ],
   "source": [
    "print(Xpol_train.shape)\n",
    "print(Xpol_train.shape)"
   ]
  },
  {
   "cell_type": "markdown",
   "metadata": {},
   "source": [
    "### ridge"
   ]
  },
  {
   "cell_type": "code",
   "execution_count": 61,
   "metadata": {},
   "outputs": [
    {
     "name": "stdout",
     "output_type": "stream",
     "text": [
      "rr train score 0.8141025259837886\n",
      "rr test score 0.843328823575771\n",
      "rr100 train score 0.7806098872862128\n",
      "rr100 test score 0.8220432198398688\n"
     ]
    },
    {
     "data": {
      "image/png": "[encoded data removed]",
      "text/plain": [
       "<Figure size 432x288 with 1 Axes>"
      ]
     },
     "metadata": {
      "needs_background": "light"
     },
     "output_type": "display_data"
    }
   ],
   "source": [
    "\n",
    "from sklearn.linear_model import Ridge\n",
    "\n",
    "\n",
    "\n",
    "rr = Ridge(alpha=0.01) \n",
    "# higher the alpha value, more restriction on the coefficients; low alpha > more generalization,\n",
    "\n",
    "rr.fit(x_train, y_train)\n",
    "\n",
    "rr100 = Ridge(alpha=100) #  comparison with alpha value\n",
    "rr100.fit(x_train, y_train)\n",
    "\n",
    "Ridge_train_score = rr.score(x_train,y_train)\n",
    "Ridge_test_score = rr.score(x_test, y_test)\n",
    "print('rr train score',Ridge_train_score)\n",
    "print('rr test score',Ridge_test_score)\n",
    "\n",
    "Ridge_train_score100 = rr100.score(x_train,y_train)\n",
    "Ridge_test_score100 = rr100.score(x_test, y_test)\n",
    "print('rr100 train score',Ridge_train_score100)\n",
    "print('rr100 test score',Ridge_test_score100)\n",
    "\n",
    "plt.plot(rr.coef_,alpha=0.7,linestyle='none',marker='*',markersize=5,color='red',label=r'Ridge; $\\alpha = 0.01$',zorder=7) \n",
    "plt.plot(rr100.coef_,alpha=0.5,linestyle='none',marker='d',markersize=6,color='blue',label=r'Ridge; $\\alpha = 100$') \n",
    "plt.plot(reg_model.coef_,alpha=0.4,linestyle='none',marker='o',markersize=7,color='green',label='Linear Regression')\n",
    "plt.xlabel('Coefficient Index',fontsize=16)\n",
    "plt.ylabel('Coefficient Magnitude',fontsize=16)\n",
    "plt.legend(fontsize=13,loc=4)\n",
    "plt.show()"
   ]
  },
  {
   "cell_type": "code",
   "execution_count": 62,
   "metadata": {},
   "outputs": [
    {
     "data": {
      "text/plain": [
       "array([5.00000000e+099, 2.50420399e+099, 1.25420753e+099, 6.28158301e+098,\n",
       "       3.14607305e+098, 1.57568174e+098, 7.89165703e+097, 3.95246381e+097,\n",
       "       1.97955513e+097, 9.91441975e+096, 4.96554591e+096, 2.48694798e+096,\n",
       "       1.24556501e+096, 6.23829776e+095, 3.12439404e+095, 1.56482401e+095,\n",
       "       7.83727705e+094, 3.92522810e+094, 1.96591438e+094, 9.84610128e+093,\n",
       "       4.93132923e+093, 2.46981087e+093, 1.23698205e+093, 6.19531078e+092,\n",
       "       3.10286440e+092, 1.55404109e+092, 7.78327180e+091, 3.89818007e+091,\n",
       "       1.95236762e+091, 9.77825358e+090, 4.89734834e+090, 2.45279185e+090,\n",
       "       1.22845823e+090, 6.15262002e+089, 3.08148313e+089, 1.54333247e+089,\n",
       "       7.72963868e+088, 3.87131841e+088, 1.93891421e+088, 9.71087341e+087,\n",
       "       4.86360160e+087, 2.43589011e+087, 1.21999315e+087, 6.11022343e+086,\n",
       "       3.06024919e+086, 1.53269765e+086, 7.67637514e+085, 3.84464186e+085,\n",
       "       1.92555350e+085, 9.64395754e+084, 4.83008740e+084, 2.41910483e+084,\n",
       "       1.21158640e+084, 6.06811899e+083, 3.03916156e+083, 1.52213611e+083,\n",
       "       7.62347864e+082, 3.81814913e+082, 1.91228486e+082, 9.57750278e+081,\n",
       "       4.79680414e+081, 2.40243522e+081, 1.20323758e+081, 6.02630468e+080,\n",
       "       3.01821925e+080, 1.51164734e+080, 7.57094663e+079, 3.79183896e+079,\n",
       "       1.89910765e+079, 9.51150594e+078, 4.76375024e+078, 2.38588047e+078,\n",
       "       1.19494628e+078, 5.98477851e+077, 2.99742125e+077, 1.50123085e+077,\n",
       "       7.51877661e+076, 3.76571008e+076, 1.88602125e+076, 9.44596388e+075,\n",
       "       4.73092410e+075, 2.36943980e+075, 1.18671213e+075, 5.94353849e+074,\n",
       "       2.97676657e+074, 1.49088615e+074, 7.46696608e+073, 3.73976126e+073,\n",
       "       1.87302502e+073, 9.38087346e+072, 4.69832416e+072, 2.35311242e+072,\n",
       "       1.17853471e+072, 5.90258264e+071, 2.95625421e+071, 1.48061272e+071,\n",
       "       7.41551257e+070, 3.71399124e+070, 1.86011834e+070, 9.31623156e+069,\n",
       "       4.66594886e+069, 2.33689755e+069, 1.17041364e+069, 5.86190902e+068,\n",
       "       2.93588320e+068, 1.47041009e+068, 7.36441362e+067, 3.68839880e+067,\n",
       "       1.84730060e+067, 9.25203510e+066, 4.63379665e+066, 2.32079442e+066,\n",
       "       1.16234853e+066, 5.82151566e+065, 2.91565256e+065, 1.46027776e+065,\n",
       "       7.31366678e+064, 3.66298271e+064, 1.83457119e+064, 9.18828100e+063,\n",
       "       4.60186600e+063, 2.30480224e+063, 1.15433900e+063, 5.78140066e+062,\n",
       "       2.89556132e+062, 1.45021525e+062, 7.26326963e+061, 3.63774176e+061,\n",
       "       1.82192949e+061, 9.12496622e+060, 4.57015537e+060, 2.28892027e+060,\n",
       "       1.14638466e+060, 5.74156207e+059, 2.87560854e+059, 1.44022208e+059,\n",
       "       7.21321976e+058, 3.61267475e+058, 1.80937491e+058, 9.06208774e+057,\n",
       "       4.53866326e+057, 2.27314773e+057, 1.13848513e+057, 5.70199801e+056,\n",
       "       2.85579324e+056, 1.43029777e+056, 7.16351477e+055, 3.58778046e+055,\n",
       "       1.79690683e+055, 8.99964253e+054, 4.50738816e+054, 2.25748389e+054,\n",
       "       1.13064003e+054, 5.66270658e+053, 2.83611449e+053, 1.42044185e+053,\n",
       "       7.11415229e+052, 3.56305772e+052, 1.78452467e+052, 8.93762763e+051,\n",
       "       4.47632856e+051, 2.24192797e+051, 1.12284900e+051, 5.62368589e+050,\n",
       "       2.81657134e+050, 1.41065384e+050, 7.06512995e+049, 3.53850533e+049,\n",
       "       1.77222784e+049, 8.87604006e+048, 4.44548299e+048, 2.22647925e+048,\n",
       "       1.11511165e+048, 5.58493409e+047, 2.79716285e+047, 1.40093328e+047,\n",
       "       7.01644542e+046, 3.51412213e+046, 1.76001574e+046, 8.81487688e+045,\n",
       "       4.41484998e+045, 2.21113699e+045, 1.10742762e+045, 5.54644932e+044,\n",
       "       2.77788811e+044, 1.39127970e+044, 6.96809637e+043, 3.48990695e+043,\n",
       "       1.74788779e+043, 8.75413516e+042, 4.38442805e+042, 2.19590045e+042,\n",
       "       1.09979653e+042, 5.50822975e+041, 2.75874619e+041, 1.38169265e+041,\n",
       "       6.92008048e+040, 3.46585864e+040, 1.73584341e+040, 8.69381200e+039,\n",
       "       4.35421575e+039, 2.18076889e+039, 1.09221804e+039, 5.47027354e+038,\n",
       "       2.73973617e+038, 1.37217165e+038, 6.87239546e+037, 3.44197603e+037,\n",
       "       1.72388203e+037, 8.63390452e+036, 4.32421164e+036, 2.16574161e+036,\n",
       "       1.08469176e+036, 5.43257887e+035, 2.72085714e+035, 1.36271627e+035,\n",
       "       6.82503903e+034, 3.41825800e+034, 1.71200307e+034, 8.57440985e+033,\n",
       "       4.29441428e+033, 2.15081788e+033, 1.07721735e+033, 5.39514396e+032,\n",
       "       2.70210821e+032, 1.35332604e+032, 6.77800893e+031, 3.39470341e+031,\n",
       "       1.70020597e+031, 8.51532515e+030, 4.26482225e+030, 2.13599698e+030,\n",
       "       1.06979444e+030, 5.35796700e+029, 2.68348847e+029, 1.34400051e+029,\n",
       "       6.73130290e+028, 3.37131112e+028, 1.68849016e+028, 8.45664759e+027,\n",
       "       4.23543413e+027, 2.12127822e+027, 1.06242268e+027, 5.32104622e+026,\n",
       "       2.66499704e+026, 1.33473925e+026, 6.68491871e+025, 3.34808003e+025,\n",
       "       1.67685508e+025, 8.39837436e+024, 4.20624852e+024, 2.10666087e+024,\n",
       "       1.05510171e+024, 5.28437986e+023, 2.64663303e+023, 1.32554180e+023,\n",
       "       6.63885415e+022, 3.32500902e+022, 1.66530017e+022, 8.34050269e+021,\n",
       "       4.17726403e+021, 2.09214425e+021, 1.04783120e+021, 5.24796615e+020,\n",
       "       2.62839556e+020, 1.31640773e+020, 6.59310701e+019, 3.30209698e+019,\n",
       "       1.65382489e+019, 8.28302979e+018, 4.14847926e+018, 2.07772767e+018,\n",
       "       1.04061078e+018, 5.21180337e+017, 2.61028376e+017, 1.30733661e+017,\n",
       "       6.54767510e+016, 3.27934283e+016, 1.64242868e+016, 8.22595294e+015,\n",
       "       4.11989284e+015, 2.06341042e+015, 1.03344012e+015, 5.17588978e+014,\n",
       "       2.59229677e+014, 1.29832799e+014, 6.50255626e+013, 3.25674547e+013,\n",
       "       1.63111100e+013, 8.16926939e+012, 4.09150341e+012, 2.04919184e+012,\n",
       "       1.02631888e+012, 5.14022366e+011, 2.57443373e+011, 1.28938144e+011,\n",
       "       6.45774833e+010, 3.23430383e+010, 1.61987131e+010, 8.11297644e+009,\n",
       "       4.06330960e+009, 2.03507123e+009, 1.01924670e+009, 5.10480331e+008,\n",
       "       2.55669377e+008, 1.28049655e+008, 6.41324915e+007, 3.21201683e+007,\n",
       "       1.60870908e+007, 8.05707139e+006, 4.03531007e+006, 2.02104792e+006,\n",
       "       1.01222325e+006, 5.06962704e+005, 2.53907606e+005, 1.27167288e+005,\n",
       "       6.36905662e+004, 3.18988340e+004, 1.59762375e+004, 8.00155157e+003,\n",
       "       4.00750348e+003, 2.00712125e+003, 1.00524821e+003, 5.03469316e+002,\n",
       "       2.52157974e+002, 1.26291001e+002, 6.32516860e+001, 3.16790250e+001,\n",
       "       1.58661482e+001, 7.94641433e+000, 3.97988850e+000, 1.99329054e+000,\n",
       "       9.98321225e-001, 5.00000000e-001, 2.50420399e-001, 1.25420753e-001,\n",
       "       6.28158301e-002, 3.14607305e-002, 1.57568174e-002, 7.89165703e-003,\n",
       "       3.95246381e-003, 1.97955513e-003, 9.91441975e-004, 4.96554591e-004,\n",
       "       2.48694798e-004, 1.24556501e-004, 6.23829776e-005, 3.12439404e-005,\n",
       "       1.56482401e-005, 7.83727705e-006, 3.92522810e-006, 1.96591438e-006,\n",
       "       9.84610128e-007, 4.93132923e-007, 2.46981087e-007, 1.23698205e-007,\n",
       "       6.19531078e-008, 3.10286440e-008, 1.55404109e-008, 7.78327180e-009,\n",
       "       3.89818007e-009, 1.95236762e-009, 9.77825358e-010, 4.89734834e-010,\n",
       "       2.45279185e-010, 1.22845823e-010, 6.15262002e-011, 3.08148313e-011,\n",
       "       1.54333247e-011, 7.72963868e-012, 3.87131841e-012, 1.93891421e-012,\n",
       "       9.71087341e-013, 4.86360160e-013, 2.43589011e-013, 1.21999315e-013,\n",
       "       6.11022343e-014, 3.06024919e-014, 1.53269765e-014, 7.67637514e-015,\n",
       "       3.84464186e-015, 1.92555350e-015, 9.64395754e-016, 4.83008740e-016,\n",
       "       2.41910483e-016, 1.21158640e-016, 6.06811899e-017, 3.03916156e-017,\n",
       "       1.52213611e-017, 7.62347864e-018, 3.81814913e-018, 1.91228486e-018,\n",
       "       9.57750278e-019, 4.79680414e-019, 2.40243522e-019, 1.20323758e-019,\n",
       "       6.02630468e-020, 3.01821925e-020, 1.51164734e-020, 7.57094663e-021,\n",
       "       3.79183896e-021, 1.89910765e-021, 9.51150594e-022, 4.76375024e-022,\n",
       "       2.38588047e-022, 1.19494628e-022, 5.98477851e-023, 2.99742125e-023,\n",
       "       1.50123085e-023, 7.51877661e-024, 3.76571008e-024, 1.88602125e-024,\n",
       "       9.44596388e-025, 4.73092410e-025, 2.36943980e-025, 1.18671213e-025,\n",
       "       5.94353849e-026, 2.97676657e-026, 1.49088615e-026, 7.46696608e-027,\n",
       "       3.73976126e-027, 1.87302502e-027, 9.38087346e-028, 4.69832416e-028,\n",
       "       2.35311242e-028, 1.17853471e-028, 5.90258264e-029, 2.95625421e-029,\n",
       "       1.48061272e-029, 7.41551257e-030, 3.71399124e-030, 1.86011834e-030,\n",
       "       9.31623156e-031, 4.66594886e-031, 2.33689755e-031, 1.17041364e-031,\n",
       "       5.86190902e-032, 2.93588320e-032, 1.47041009e-032, 7.36441362e-033,\n",
       "       3.68839880e-033, 1.84730060e-033, 9.25203510e-034, 4.63379665e-034,\n",
       "       2.32079442e-034, 1.16234853e-034, 5.82151566e-035, 2.91565256e-035,\n",
       "       1.46027776e-035, 7.31366678e-036, 3.66298271e-036, 1.83457119e-036,\n",
       "       9.18828100e-037, 4.60186600e-037, 2.30480224e-037, 1.15433900e-037,\n",
       "       5.78140066e-038, 2.89556132e-038, 1.45021525e-038, 7.26326963e-039,\n",
       "       3.63774176e-039, 1.82192949e-039, 9.12496622e-040, 4.57015537e-040,\n",
       "       2.28892027e-040, 1.14638466e-040, 5.74156207e-041, 2.87560854e-041,\n",
       "       1.44022208e-041, 7.21321976e-042, 3.61267475e-042, 1.80937491e-042,\n",
       "       9.06208774e-043, 4.53866326e-043, 2.27314773e-043, 1.13848513e-043,\n",
       "       5.70199801e-044, 2.85579324e-044, 1.43029777e-044, 7.16351477e-045,\n",
       "       3.58778046e-045, 1.79690683e-045, 8.99964253e-046, 4.50738816e-046,\n",
       "       2.25748389e-046, 1.13064003e-046, 5.66270658e-047, 2.83611449e-047,\n",
       "       1.42044185e-047, 7.11415229e-048, 3.56305772e-048, 1.78452467e-048,\n",
       "       8.93762763e-049, 4.47632856e-049, 2.24192797e-049, 1.12284900e-049,\n",
       "       5.62368589e-050, 2.81657134e-050, 1.41065384e-050, 7.06512995e-051,\n",
       "       3.53850533e-051, 1.77222784e-051, 8.87604006e-052, 4.44548299e-052,\n",
       "       2.22647925e-052, 1.11511165e-052, 5.58493409e-053, 2.79716285e-053,\n",
       "       1.40093328e-053, 7.01644542e-054, 3.51412213e-054, 1.76001574e-054,\n",
       "       8.81487688e-055, 4.41484998e-055, 2.21113699e-055, 1.10742762e-055,\n",
       "       5.54644932e-056, 2.77788811e-056, 1.39127970e-056, 6.96809637e-057,\n",
       "       3.48990695e-057, 1.74788779e-057, 8.75413516e-058, 4.38442805e-058,\n",
       "       2.19590045e-058, 1.09979653e-058, 5.50822975e-059, 2.75874619e-059,\n",
       "       1.38169265e-059, 6.92008048e-060, 3.46585864e-060, 1.73584341e-060,\n",
       "       8.69381200e-061, 4.35421575e-061, 2.18076889e-061, 1.09221804e-061,\n",
       "       5.47027354e-062, 2.73973617e-062, 1.37217165e-062, 6.87239546e-063,\n",
       "       3.44197603e-063, 1.72388203e-063, 8.63390452e-064, 4.32421164e-064,\n",
       "       2.16574161e-064, 1.08469176e-064, 5.43257887e-065, 2.72085714e-065,\n",
       "       1.36271627e-065, 6.82503903e-066, 3.41825800e-066, 1.71200307e-066,\n",
       "       8.57440985e-067, 4.29441428e-067, 2.15081788e-067, 1.07721735e-067,\n",
       "       5.39514396e-068, 2.70210821e-068, 1.35332604e-068, 6.77800893e-069,\n",
       "       3.39470341e-069, 1.70020597e-069, 8.51532515e-070, 4.26482225e-070,\n",
       "       2.13599698e-070, 1.06979444e-070, 5.35796700e-071, 2.68348847e-071,\n",
       "       1.34400051e-071, 6.73130290e-072, 3.37131112e-072, 1.68849016e-072,\n",
       "       8.45664759e-073, 4.23543413e-073, 2.12127822e-073, 1.06242268e-073,\n",
       "       5.32104622e-074, 2.66499704e-074, 1.33473925e-074, 6.68491871e-075,\n",
       "       3.34808003e-075, 1.67685508e-075, 8.39837436e-076, 4.20624852e-076,\n",
       "       2.10666087e-076, 1.05510171e-076, 5.28437986e-077, 2.64663303e-077,\n",
       "       1.32554180e-077, 6.63885415e-078, 3.32500902e-078, 1.66530017e-078,\n",
       "       8.34050269e-079, 4.17726403e-079, 2.09214425e-079, 1.04783120e-079,\n",
       "       5.24796615e-080, 2.62839556e-080, 1.31640773e-080, 6.59310701e-081,\n",
       "       3.30209698e-081, 1.65382489e-081, 8.28302979e-082, 4.14847926e-082,\n",
       "       2.07772767e-082, 1.04061078e-082, 5.21180337e-083, 2.61028376e-083,\n",
       "       1.30733661e-083, 6.54767510e-084, 3.27934283e-084, 1.64242868e-084,\n",
       "       8.22595294e-085, 4.11989284e-085, 2.06341042e-085, 1.03344012e-085,\n",
       "       5.17588978e-086, 2.59229677e-086, 1.29832799e-086, 6.50255626e-087,\n",
       "       3.25674547e-087, 1.63111100e-087, 8.16926939e-088, 4.09150341e-088,\n",
       "       2.04919184e-088, 1.02631888e-088, 5.14022366e-089, 2.57443373e-089,\n",
       "       1.28938144e-089, 6.45774833e-090, 3.23430383e-090, 1.61987131e-090,\n",
       "       8.11297644e-091, 4.06330960e-091, 2.03507123e-091, 1.01924670e-091,\n",
       "       5.10480331e-092, 2.55669377e-092, 1.28049655e-092, 6.41324915e-093,\n",
       "       3.21201683e-093, 1.60870908e-093, 8.05707139e-094, 4.03531007e-094,\n",
       "       2.02104792e-094, 1.01222325e-094, 5.06962704e-095, 2.53907606e-095,\n",
       "       1.27167288e-095, 6.36905662e-096, 3.18988340e-096, 1.59762375e-096,\n",
       "       8.00155157e-097, 4.00750348e-097, 2.00712125e-097, 1.00524821e-097,\n",
       "       5.03469316e-098, 2.52157974e-098, 1.26291001e-098, 6.32516860e-099,\n",
       "       3.16790250e-099, 1.58661482e-099, 7.94641433e-100, 3.97988850e-100,\n",
       "       1.99329054e-100, 9.98321225e-101, 5.00000000e-101, 2.50420399e-101,\n",
       "       1.25420753e-101, 6.28158301e-102, 3.14607305e-102, 1.57568174e-102,\n",
       "       7.89165703e-103, 3.95246381e-103, 1.97955513e-103, 9.91441975e-104,\n",
       "       4.96554591e-104, 2.48694798e-104, 1.24556501e-104, 6.23829776e-105,\n",
       "       3.12439404e-105, 1.56482401e-105, 7.83727705e-106, 3.92522810e-106,\n",
       "       1.96591438e-106, 9.84610128e-107, 4.93132923e-107, 2.46981087e-107,\n",
       "       1.23698205e-107, 6.19531078e-108, 3.10286440e-108, 1.55404109e-108,\n",
       "       7.78327180e-109, 3.89818007e-109, 1.95236762e-109, 9.77825358e-110,\n",
       "       4.89734834e-110, 2.45279185e-110, 1.22845823e-110, 6.15262002e-111,\n",
       "       3.08148313e-111, 1.54333247e-111, 7.72963868e-112, 3.87131841e-112,\n",
       "       1.93891421e-112, 9.71087341e-113, 4.86360160e-113, 2.43589011e-113,\n",
       "       1.21999315e-113, 6.11022343e-114, 3.06024919e-114, 1.53269765e-114,\n",
       "       7.67637514e-115, 3.84464186e-115, 1.92555350e-115, 9.64395754e-116,\n",
       "       4.83008740e-116, 2.41910483e-116, 1.21158640e-116, 6.06811899e-117,\n",
       "       3.03916156e-117, 1.52213611e-117, 7.62347864e-118, 3.81814913e-118,\n",
       "       1.91228486e-118, 9.57750278e-119, 4.79680414e-119, 2.40243522e-119,\n",
       "       1.20323758e-119, 6.02630468e-120, 3.01821925e-120, 1.51164734e-120,\n",
       "       7.57094663e-121, 3.79183896e-121, 1.89910765e-121, 9.51150594e-122,\n",
       "       4.76375024e-122, 2.38588047e-122, 1.19494628e-122, 5.98477851e-123,\n",
       "       2.99742125e-123, 1.50123085e-123, 7.51877661e-124, 3.76571008e-124,\n",
       "       1.88602125e-124, 9.44596388e-125, 4.73092410e-125, 2.36943980e-125,\n",
       "       1.18671213e-125, 5.94353849e-126, 2.97676657e-126, 1.49088615e-126,\n",
       "       7.46696608e-127, 3.73976126e-127, 1.87302502e-127, 9.38087346e-128,\n",
       "       4.69832416e-128, 2.35311242e-128, 1.17853471e-128, 5.90258264e-129,\n",
       "       2.95625421e-129, 1.48061272e-129, 7.41551257e-130, 3.71399124e-130,\n",
       "       1.86011834e-130, 9.31623156e-131, 4.66594886e-131, 2.33689755e-131,\n",
       "       1.17041364e-131, 5.86190902e-132, 2.93588320e-132, 1.47041009e-132,\n",
       "       7.36441362e-133, 3.68839880e-133, 1.84730060e-133, 9.25203510e-134,\n",
       "       4.63379665e-134, 2.32079442e-134, 1.16234853e-134, 5.82151566e-135,\n",
       "       2.91565256e-135, 1.46027776e-135, 7.31366678e-136, 3.66298271e-136,\n",
       "       1.83457119e-136, 9.18828100e-137, 4.60186600e-137, 2.30480224e-137,\n",
       "       1.15433900e-137, 5.78140066e-138, 2.89556132e-138, 1.45021525e-138,\n",
       "       7.26326963e-139, 3.63774176e-139, 1.82192949e-139, 9.12496622e-140,\n",
       "       4.57015537e-140, 2.28892027e-140, 1.14638466e-140, 5.74156207e-141,\n",
       "       2.87560854e-141, 1.44022208e-141, 7.21321976e-142, 3.61267475e-142,\n",
       "       1.80937491e-142, 9.06208774e-143, 4.53866326e-143, 2.27314773e-143,\n",
       "       1.13848513e-143, 5.70199801e-144, 2.85579324e-144, 1.43029777e-144,\n",
       "       7.16351477e-145, 3.58778046e-145, 1.79690683e-145, 8.99964253e-146,\n",
       "       4.50738816e-146, 2.25748389e-146, 1.13064003e-146, 5.66270658e-147,\n",
       "       2.83611449e-147, 1.42044185e-147, 7.11415229e-148, 3.56305772e-148,\n",
       "       1.78452467e-148, 8.93762763e-149, 4.47632856e-149, 2.24192797e-149,\n",
       "       1.12284900e-149, 5.62368589e-150, 2.81657134e-150, 1.41065384e-150,\n",
       "       7.06512995e-151, 3.53850533e-151, 1.77222784e-151, 8.87604006e-152,\n",
       "       4.44548299e-152, 2.22647925e-152, 1.11511165e-152, 5.58493409e-153,\n",
       "       2.79716285e-153, 1.40093328e-153, 7.01644542e-154, 3.51412213e-154,\n",
       "       1.76001574e-154, 8.81487688e-155, 4.41484998e-155, 2.21113699e-155,\n",
       "       1.10742762e-155, 5.54644932e-156, 2.77788811e-156, 1.39127970e-156,\n",
       "       6.96809637e-157, 3.48990695e-157, 1.74788779e-157, 8.75413516e-158,\n",
       "       4.38442805e-158, 2.19590045e-158, 1.09979653e-158, 5.50822975e-159,\n",
       "       2.75874619e-159, 1.38169265e-159, 6.92008048e-160, 3.46585864e-160,\n",
       "       1.73584341e-160, 8.69381200e-161, 4.35421575e-161, 2.18076889e-161,\n",
       "       1.09221804e-161, 5.47027354e-162, 2.73973617e-162, 1.37217165e-162,\n",
       "       6.87239546e-163, 3.44197603e-163, 1.72388203e-163, 8.63390452e-164,\n",
       "       4.32421164e-164, 2.16574161e-164, 1.08469176e-164, 5.43257887e-165,\n",
       "       2.72085714e-165, 1.36271627e-165, 6.82503903e-166, 3.41825800e-166,\n",
       "       1.71200307e-166, 8.57440985e-167, 4.29441428e-167, 2.15081788e-167,\n",
       "       1.07721735e-167, 5.39514396e-168, 2.70210821e-168, 1.35332604e-168,\n",
       "       6.77800893e-169, 3.39470341e-169, 1.70020597e-169, 8.51532515e-170,\n",
       "       4.26482225e-170, 2.13599698e-170, 1.06979444e-170, 5.35796700e-171,\n",
       "       2.68348847e-171, 1.34400051e-171, 6.73130290e-172, 3.37131112e-172,\n",
       "       1.68849016e-172, 8.45664759e-173, 4.23543413e-173, 2.12127822e-173,\n",
       "       1.06242268e-173, 5.32104622e-174, 2.66499704e-174, 1.33473925e-174,\n",
       "       6.68491871e-175, 3.34808003e-175, 1.67685508e-175, 8.39837436e-176,\n",
       "       4.20624852e-176, 2.10666087e-176, 1.05510171e-176, 5.28437986e-177,\n",
       "       2.64663303e-177, 1.32554180e-177, 6.63885415e-178, 3.32500902e-178,\n",
       "       1.66530017e-178, 8.34050269e-179, 4.17726403e-179, 2.09214425e-179,\n",
       "       1.04783120e-179, 5.24796615e-180, 2.62839556e-180, 1.31640773e-180,\n",
       "       6.59310701e-181, 3.30209698e-181, 1.65382489e-181, 8.28302979e-182,\n",
       "       4.14847926e-182, 2.07772767e-182, 1.04061078e-182, 5.21180337e-183,\n",
       "       2.61028376e-183, 1.30733661e-183, 6.54767510e-184, 3.27934283e-184,\n",
       "       1.64242868e-184, 8.22595294e-185, 4.11989284e-185, 2.06341042e-185,\n",
       "       1.03344012e-185, 5.17588978e-186, 2.59229677e-186, 1.29832799e-186,\n",
       "       6.50255626e-187, 3.25674547e-187, 1.63111100e-187, 8.16926939e-188,\n",
       "       4.09150341e-188, 2.04919184e-188, 1.02631888e-188, 5.14022366e-189,\n",
       "       2.57443373e-189, 1.28938144e-189, 6.45774833e-190, 3.23430383e-190,\n",
       "       1.61987131e-190, 8.11297644e-191, 4.06330960e-191, 2.03507123e-191,\n",
       "       1.01924670e-191, 5.10480331e-192, 2.55669377e-192, 1.28049655e-192,\n",
       "       6.41324915e-193, 3.21201683e-193, 1.60870908e-193, 8.05707139e-194,\n",
       "       4.03531007e-194, 2.02104792e-194, 1.01222325e-194, 5.06962704e-195,\n",
       "       2.53907606e-195, 1.27167288e-195, 6.36905662e-196, 3.18988340e-196,\n",
       "       1.59762375e-196, 8.00155157e-197, 4.00750348e-197, 2.00712125e-197,\n",
       "       1.00524821e-197, 5.03469316e-198, 2.52157974e-198, 1.26291001e-198,\n",
       "       6.32516860e-199, 3.16790250e-199, 1.58661482e-199, 7.94641433e-200,\n",
       "       3.97988850e-200, 1.99329054e-200, 9.98321225e-201, 5.00000000e-201])"
      ]
     },
     "execution_count": 62,
     "metadata": {},
     "output_type": "execute_result"
    }
   ],
   "source": [
    "alphas = 10**np.linspace(100,-200,1000)*0.5\n",
    "alphas"
   ]
  },
  {
   "cell_type": "code",
   "execution_count": 63,
   "metadata": {},
   "outputs": [
    {
     "data": {
      "text/plain": [
       "0.0019795551332342336"
      ]
     },
     "execution_count": 63,
     "metadata": {},
     "output_type": "execute_result"
    }
   ],
   "source": [
    "ridgecv = RidgeCV(alphas = alphas, scoring = 'neg_mean_squared_error', normalize = True)\n",
    "ridgecv.fit(x_train, y_train)\n",
    "ridgecv.alpha_"
   ]
  },
  {
   "cell_type": "code",
   "execution_count": 64,
   "metadata": {},
   "outputs": [
    {
     "name": "stdout",
     "output_type": "stream",
     "text": [
      "rr train score 0.8141025492119106\n",
      "rr test score 0.8433165529050253\n"
     ]
    }
   ],
   "source": [
    "rr_opt = Ridge(alpha=ridgecv.alpha_) \n",
    "# higher the alpha value, more restriction on the coefficients; low alpha > more generalization,\n",
    "\n",
    "rr_opt.fit(x_train, y_train)\n",
    "\n",
    "Ridge_train_score = rr_opt.score(x_train,y_train)\n",
    "Ridge_test_score = rr_opt.score(x_test, y_test)\n",
    "print('rr train score',Ridge_train_score)\n",
    "print('rr test score',Ridge_test_score)"
   ]
  },
  {
   "cell_type": "markdown",
   "metadata": {},
   "source": [
    "### ridge for polynomial function"
   ]
  },
  {
   "cell_type": "code",
   "execution_count": 65,
   "metadata": {},
   "outputs": [
    {
     "name": "stdout",
     "output_type": "stream",
     "text": [
      "rr train score 0.9020840004072748\n",
      "rr test score 0.8723706760565946\n",
      "rr100 train score 0.8770534977211216\n",
      "rr100 test score 0.8692647781601969\n"
     ]
    },
    {
     "data": {
      "image/png": "[encoded data removed]",
      "text/plain": [
       "<Figure size 432x288 with 1 Axes>"
      ]
     },
     "metadata": {
      "needs_background": "light"
     },
     "output_type": "display_data"
    }
   ],
   "source": [
    "from sklearn.linear_model import Ridge\n",
    "\n",
    "\n",
    "\n",
    "rr = Ridge(alpha=0.01) \n",
    "# higher the alpha value, more restriction on the coefficients; low alpha > more generalization,\n",
    "\n",
    "rr.fit(Xpol_train, y_train)\n",
    "\n",
    "rr100 = Ridge(alpha=100) #  comparison with alpha value\n",
    "rr100.fit(Xpol_train, y_train)\n",
    "\n",
    "Ridge_train_score = rr.score(Xpol_train,y_train)\n",
    "Ridge_test_score = rr.score(Xpol_test, y_test)\n",
    "print('rr train score',Ridge_train_score)\n",
    "print('rr test score',Ridge_test_score)\n",
    "\n",
    "Ridge_train_score100 = rr100.score(Xpol_train,y_train)\n",
    "Ridge_test_score100 = rr100.score(Xpol_test, y_test)\n",
    "print('rr100 train score',Ridge_train_score100)\n",
    "print('rr100 test score',Ridge_test_score100)\n",
    "\n",
    "plt.plot(rr.coef_,alpha=0.7,linestyle='none',marker='*',markersize=5,color='red',label=r'Ridge; $\\alpha = 0.01$',zorder=7) \n",
    "plt.plot(rr100.coef_,alpha=0.5,linestyle='none',marker='d',markersize=6,color='blue',label=r'Ridge; $\\alpha = 100$') \n",
    "plt.plot(reg_model.coef_,alpha=0.4,linestyle='none',marker='o',markersize=7,color='green',label='Linear Regression')\n",
    "plt.xlabel('Coefficient Index',fontsize=16)\n",
    "plt.ylabel('Coefficient Magnitude',fontsize=16)\n",
    "plt.legend(fontsize=13,loc=4)\n",
    "plt.show()"
   ]
  },
  {
   "cell_type": "code",
   "execution_count": 66,
   "metadata": {},
   "outputs": [
    {
     "data": {
      "text/plain": [
       "0.0019795551332342336"
      ]
     },
     "execution_count": 66,
     "metadata": {},
     "output_type": "execute_result"
    }
   ],
   "source": [
    "ridgecv = RidgeCV(alphas = alphas, scoring = 'neg_mean_squared_error', normalize = True)\n",
    "ridgecv.fit(Xpol_train, y_train)\n",
    "ridgecv.alpha_"
   ]
  },
  {
   "cell_type": "code",
   "execution_count": 67,
   "metadata": {},
   "outputs": [
    {
     "name": "stdout",
     "output_type": "stream",
     "text": [
      "rr train score 0.9025980105588106\n",
      "rr test score 0.8684942150464441\n"
     ]
    }
   ],
   "source": [
    "rr_opt_pol = Ridge(alpha=ridgecv.alpha_) \n",
    "# higher the alpha value, more restriction on the coefficients; low alpha > more generalization,\n",
    "\n",
    "rr_opt_pol.fit(Xpol_train, y_train)\n",
    "\n",
    "Ridge_train_score = rr_opt_pol.score(Xpol_train,y_train)\n",
    "Ridge_test_score = rr_opt_pol.score(Xpol_test, y_test)\n",
    "print('rr train score',Ridge_train_score)\n",
    "print('rr test score',Ridge_test_score)"
   ]
  },
  {
   "cell_type": "markdown",
   "metadata": {},
   "source": [
    "### lasso"
   ]
  },
  {
   "cell_type": "code",
   "execution_count": 68,
   "metadata": {},
   "outputs": [
    {
     "name": "stdout",
     "output_type": "stream",
     "text": [
      "training score: 0.7821339196681276\n",
      "test score:  0.8150692172957735\n",
      "number of features used:  2 \n",
      "\n",
      "training score for alpha=0.01: 0.8138902551955064\n",
      "test score for alpha =0.01:  0.8443036351232704\n",
      "number of features used: for alpha =0.01: 8 \n",
      "\n",
      "training score for alpha=0.0001: 0.8141025311857708\n",
      "test score for alpha =0.0001:  0.8433264957714305\n",
      "number of features used: for alpha =0.0001: 8 \n",
      "\n"
     ]
    },
    {
     "data": {
      "image/png": "[encoded data removed]",
      "text/plain": [
       "<Figure size 432x288 with 2 Axes>"
      ]
     },
     "metadata": {
      "needs_background": "light"
     },
     "output_type": "display_data"
    }
   ],
   "source": [
    "\n",
    "from sklearn.linear_model import Lasso\n",
    "\n",
    "\n",
    "lasso = Lasso()\n",
    "lasso.fit(x_train,y_train)\n",
    "\n",
    "train_score=lasso.score(x_train,y_train)\n",
    "test_score=lasso.score(x_test,y_test)\n",
    "\n",
    "coeff_used = np.sum(lasso.coef_!=0)\n",
    "\n",
    "print(\"training score:\", train_score)\n",
    "print(\"test score: \", test_score)\n",
    "print(\"number of features used: \", coeff_used,'\\n')\n",
    "\n",
    "lasso001 = Lasso(alpha=0.01, max_iter=10e5)\n",
    "lasso001.fit(x_train,y_train)\n",
    "train_score001=lasso001.score(x_train,y_train)\n",
    "test_score001=lasso001.score(x_test,y_test)\n",
    "coeff_used001 = np.sum(lasso001.coef_!=0)\n",
    "\n",
    "print(\"training score for alpha=0.01:\", train_score001)\n",
    "print(\"test score for alpha =0.01: \", test_score001)\n",
    "print(\"number of features used: for alpha =0.01:\", coeff_used001,'\\n')\n",
    "\n",
    "lasso00001 = Lasso(alpha=0.0001, max_iter=10e5)\n",
    "lasso00001.fit(x_train,y_train)\n",
    "train_score00001=lasso00001.score(x_train,y_train)\n",
    "test_score00001=lasso00001.score(x_test,y_test)\n",
    "coeff_used00001 = np.sum(lasso00001.coef_!=0)\n",
    "\n",
    "print(\"training score for alpha=0.0001:\", train_score00001)\n",
    "print(\"test score for alpha =0.0001: \", test_score00001)\n",
    "print(\"number of features used: for alpha =0.0001:\", coeff_used00001,'\\n')\n",
    "\n",
    "\n",
    "plt.subplot(1,2,1)\n",
    "plt.plot(lasso.coef_,alpha=0.7,linestyle='none',marker='*',markersize=5,color='red',label=r'Lasso; $\\alpha = 1$',zorder=7) # alpha here is for transparency\n",
    "plt.plot(lasso001.coef_,alpha=0.5,linestyle='none',marker='d',markersize=6,color='blue',label=r'Lasso; $\\alpha = 0.01$') # alpha here is for transparency\n",
    "\n",
    "plt.xlabel('Coefficient Index',fontsize=16)\n",
    "plt.ylabel('Coefficient Magnitude',fontsize=16)\n",
    "plt.legend(fontsize=13,loc=4)\n",
    "plt.subplot(1,2,2)\n",
    "plt.plot(lasso.coef_,alpha=0.7,linestyle='none',marker='*',markersize=5,color='red',label=r'Lasso; $\\alpha = 1$',zorder=7) # alpha here is for transparency\n",
    "plt.plot(lasso001.coef_,alpha=0.5,linestyle='none',marker='d',markersize=6,color='blue',label=r'Lasso; $\\alpha = 0.01$') # alpha here is for transparency\n",
    "plt.plot(lasso00001.coef_,alpha=0.8,linestyle='none',marker='v',markersize=6,color='black',label=r'Lasso; $\\alpha = 0.00001$') # alpha here is for transparency\n",
    "\n",
    "plt.ylabel('Coefficient Magnitude',fontsize=16)\n",
    "plt.legend(fontsize=13,loc=4)\n",
    "plt.tight_layout()\n",
    "plt.show()\n",
    "\n"
   ]
  },
  {
   "cell_type": "code",
   "execution_count": 69,
   "metadata": {},
   "outputs": [
    {
     "name": "stdout",
     "output_type": "stream",
     "text": [
      "training score: 0.8140904138241625\n",
      "test score:  0.8436090371829231\n"
     ]
    }
   ],
   "source": [
    "lassocv = LassoCV(alphas = None, cv = 10, max_iter = 100000, normalize = True)\n",
    "lassocv.fit(x_train, y_train)\n",
    "\n",
    "lasso.set_params(alpha=lassocv.alpha_)\n",
    "lasso.fit(x_train, y_train)\n",
    "mean_squared_error(y_test, lasso.predict(x_test))\n",
    "\n",
    "train_score=lasso.score(x_train,y_train)\n",
    "test_score=lasso.score(x_test,y_test)\n",
    "\n",
    "\n",
    "print(\"training score:\", train_score)\n",
    "print(\"test score: \", test_score)\n"
   ]
  },
  {
   "cell_type": "markdown",
   "metadata": {},
   "source": [
    "### lasso for polynomial function"
   ]
  },
  {
   "cell_type": "code",
   "execution_count": 70,
   "metadata": {},
   "outputs": [
    {
     "name": "stdout",
     "output_type": "stream",
     "text": [
      "training score: 0.8451818378127989\n",
      "test score:  0.8691433363010598\n",
      "number of features used:  9 \n",
      "\n",
      "training score for alpha=0.01: 0.8932393017041923\n",
      "test score for alpha =0.01:  0.8758949756658416\n",
      "number of features used: for alpha =0.01: 24 \n",
      "\n",
      "training score for alpha=0.0001: 0.9026310573471795\n",
      "test score for alpha =0.0001:  0.8678493735844922\n",
      "number of features used: for alpha =0.0001: 39 \n",
      "\n"
     ]
    },
    {
     "data": {
      "image/png": "[encoded data removed]",
      "text/plain": [
       "<Figure size 432x288 with 2 Axes>"
      ]
     },
     "metadata": {
      "needs_background": "light"
     },
     "output_type": "display_data"
    }
   ],
   "source": [
    "from sklearn.linear_model import Lasso\n",
    "\n",
    "\n",
    "lasso = Lasso()\n",
    "lasso.fit(Xpol_train,y_train)\n",
    "\n",
    "train_score=lasso.score(Xpol_train,y_train)\n",
    "test_score=lasso.score(Xpol_test,y_test)\n",
    "\n",
    "coeff_used = np.sum(lasso.coef_!=0)\n",
    "\n",
    "print(\"training score:\", train_score)\n",
    "print(\"test score: \", test_score)\n",
    "print(\"number of features used: \", coeff_used,'\\n')\n",
    "\n",
    "lasso001 = Lasso(alpha=0.01, max_iter=10e5)\n",
    "lasso001.fit(Xpol_train,y_train)\n",
    "train_score001=lasso001.score(Xpol_train,y_train)\n",
    "test_score001=lasso001.score(Xpol_test,y_test)\n",
    "coeff_used001 = np.sum(lasso001.coef_!=0)\n",
    "\n",
    "print(\"training score for alpha=0.01:\", train_score001)\n",
    "print(\"test score for alpha =0.01: \", test_score001)\n",
    "print(\"number of features used: for alpha =0.01:\", coeff_used001,'\\n')\n",
    "\n",
    "lasso00001 = Lasso(alpha=0.0001, max_iter=10e5)\n",
    "lasso00001.fit(Xpol_train,y_train)\n",
    "train_score00001=lasso00001.score(Xpol_train,y_train)\n",
    "test_score00001=lasso00001.score(Xpol_test,y_test)\n",
    "coeff_used00001 = np.sum(lasso00001.coef_!=0)\n",
    "\n",
    "print(\"training score for alpha=0.0001:\", train_score00001)\n",
    "print(\"test score for alpha =0.0001: \", test_score00001)\n",
    "print(\"number of features used: for alpha =0.0001:\", coeff_used00001,'\\n')\n",
    "\n",
    "\n",
    "plt.subplot(1,2,1)\n",
    "plt.plot(lasso.coef_,alpha=0.7,linestyle='none',marker='*',markersize=5,color='red',label=r'Lasso; $\\alpha = 1$',zorder=7) # alpha here is for transparency\n",
    "plt.plot(lasso001.coef_,alpha=0.5,linestyle='none',marker='d',markersize=6,color='blue',label=r'Lasso; $\\alpha = 0.01$') # alpha here is for transparency\n",
    "\n",
    "plt.xlabel('Coefficient Index',fontsize=16)\n",
    "plt.ylabel('Coefficient Magnitude',fontsize=16)\n",
    "plt.legend(fontsize=13,loc=4)\n",
    "plt.subplot(1,2,2)\n",
    "plt.plot(lasso.coef_,alpha=0.7,linestyle='none',marker='*',markersize=5,color='red',label=r'Lasso; $\\alpha = 1$',zorder=7) # alpha here is for transparency\n",
    "plt.plot(lasso001.coef_,alpha=0.5,linestyle='none',marker='d',markersize=6,color='blue',label=r'Lasso; $\\alpha = 0.01$') # alpha here is for transparency\n",
    "plt.plot(lasso00001.coef_,alpha=0.8,linestyle='none',marker='v',markersize=6,color='black',label=r'Lasso; $\\alpha = 0.00001$') # alpha here is for transparency\n",
    "\n",
    "plt.ylabel('Coefficient Magnitude',fontsize=16)\n",
    "plt.legend(fontsize=13,loc=4)\n",
    "plt.tight_layout()\n",
    "plt.show()\n"
   ]
  },
  {
   "cell_type": "code",
   "execution_count": 71,
   "metadata": {},
   "outputs": [
    {
     "name": "stdout",
     "output_type": "stream",
     "text": [
      "training score: 0.8931514996722907\n",
      "test score:  0.8728168227964919\n"
     ]
    },
    {
     "name": "stderr",
     "output_type": "stream",
     "text": [
      "C:\\Users\\NAZEERUDDIN\\anaconda3\\lib\\site-packages\\sklearn\\linear_model\\_coordinate_descent.py:529: ConvergenceWarning: Objective did not converge. You might want to increase the number of iterations. Duality gap: 947.4015235008725, tolerance: 1.7229699856115106\n",
      "  model = cd_fast.enet_coordinate_descent(\n"
     ]
    }
   ],
   "source": [
    "lassocv = LassoCV(alphas = None, cv = 10, max_iter = 100000, normalize = True)\n",
    "lassocv.fit(Xpol_train, y_train)\n",
    "\n",
    "lasso.set_params(alpha=lassocv.alpha_)\n",
    "lasso.fit(Xpol_train, y_train)\n",
    "mean_squared_error(y_test, lasso.predict(Xpol_test))\n",
    "\n",
    "train_score=lasso.score(Xpol_train,y_train)\n",
    "test_score=lasso.score(Xpol_test,y_test)\n",
    "\n",
    "\n",
    "print(\"training score:\", train_score)\n",
    "print(\"test score: \", test_score)\n"
   ]
  },
  {
   "cell_type": "markdown",
   "metadata": {},
   "source": [
    "## Elasticnet"
   ]
  },
  {
   "cell_type": "code",
   "execution_count": 72,
   "metadata": {},
   "outputs": [
    {
     "name": "stdout",
     "output_type": "stream",
     "text": [
      "3.3997644873345374\n",
      "reg train score 0.8135060489091233\n",
      "3.0143751057253136\n",
      "reg test score 0.8445881207568465\n"
     ]
    }
   ],
   "source": [
    "model_enet = ElasticNet(alpha = 0.01)\n",
    "model_enet.fit(x_train, y_train) \n",
    "pred_train_enet= model_enet.predict(x_train)\n",
    "print(np.sqrt(mean_squared_error(y_train,pred_train_enet)))\n",
    "print('reg train score',r2_score(y_train, pred_train_enet))\n",
    "\n",
    "pred_test_enet= model_enet.predict(x_test)\n",
    "print(np.sqrt(mean_squared_error(y_test,pred_test_enet)))\n",
    "print('reg test score',r2_score(y_test, pred_test_enet))"
   ]
  },
  {
   "cell_type": "markdown",
   "metadata": {},
   "source": [
    "### polynomial Elasticnet"
   ]
  },
  {
   "cell_type": "code",
   "execution_count": 73,
   "metadata": {},
   "outputs": [
    {
     "name": "stderr",
     "output_type": "stream",
     "text": [
      "C:\\Users\\NAZEERUDDIN\\anaconda3\\lib\\site-packages\\sklearn\\linear_model\\_coordinate_descent.py:529: ConvergenceWarning: Objective did not converge. You might want to increase the number of iterations. Duality gap: 881.316276226677, tolerance: 1.7229699856115106\n",
      "  model = cd_fast.enet_coordinate_descent(\n"
     ]
    },
    {
     "name": "stdout",
     "output_type": "stream",
     "text": [
      "rms pol train error 2.517207195518176\n",
      "reg pol train score 0.8977637260760726\n",
      "rms pol test error 2.6649558222657013\n",
      "reg pol test score 0.8785298267332347\n"
     ]
    }
   ],
   "source": [
    "model_enet = ElasticNet(alpha = 0.00001)\n",
    "model_enet.fit(Xpol_train, y_train) \n",
    "pred_train_enet= model_enet.predict(Xpol_train)\n",
    "print('rms pol train error',np.sqrt(mean_squared_error(y_train,pred_train_enet)))\n",
    "print('reg pol train score',r2_score(y_train, pred_train_enet))\n",
    "\n",
    "pred_test_enet= model_enet.predict(Xpol_test)\n",
    "print('rms pol test error',np.sqrt(mean_squared_error(y_test,pred_test_enet)))\n",
    "print('reg pol test score',r2_score(y_test, pred_test_enet))"
   ]
  },
  {
   "cell_type": "code",
   "execution_count": 74,
   "metadata": {},
   "outputs": [
    {
     "data": {
      "text/plain": [
       "0.0007854341115112496"
      ]
     },
     "execution_count": 74,
     "metadata": {},
     "output_type": "execute_result"
    }
   ],
   "source": [
    "from sklearn.linear_model import ElasticNetCV\n",
    "ElasticNetcv = ElasticNetCV(alphas = None, cv = 100, max_iter = 100000, normalize = True)\n",
    "ElasticNetcv.fit(Xpol_train, y_train)\n",
    "\n",
    "ElasticNetcv.alpha_"
   ]
  },
  {
   "cell_type": "code",
   "execution_count": 75,
   "metadata": {},
   "outputs": [
    {
     "name": "stdout",
     "output_type": "stream",
     "text": [
      "rms pol train error 2.5274288369552864\n",
      "reg pol train score 0.8969317371154053\n",
      "rms pol test error 2.6779126290483792\n",
      "reg pol test score 0.8773457984222685\n"
     ]
    },
    {
     "name": "stderr",
     "output_type": "stream",
     "text": [
      "C:\\Users\\NAZEERUDDIN\\anaconda3\\lib\\site-packages\\sklearn\\linear_model\\_coordinate_descent.py:529: ConvergenceWarning: Objective did not converge. You might want to increase the number of iterations. Duality gap: 906.8295248016165, tolerance: 1.7229699856115106\n",
      "  model = cd_fast.enet_coordinate_descent(\n"
     ]
    }
   ],
   "source": [
    "model_enet = ElasticNet(alpha = 0.0007854341115112496)\n",
    "model_enet.fit(Xpol_train, y_train) \n",
    "pred_train_enet= model_enet.predict(Xpol_train)\n",
    "print('rms pol train error',np.sqrt(mean_squared_error(y_train,pred_train_enet)))\n",
    "print('reg pol train score',r2_score(y_train, pred_train_enet))\n",
    "\n",
    "pred_test_enet= model_enet.predict(Xpol_test)\n",
    "print('rms pol test error',np.sqrt(mean_squared_error(y_test,pred_test_enet)))\n",
    "print('reg pol test score',r2_score(y_test, pred_test_enet))"
   ]
  },
  {
   "cell_type": "markdown",
   "metadata": {},
   "source": [
    "#  Random forests"
   ]
  },
  {
   "cell_type": "code",
   "execution_count": 76,
   "metadata": {},
   "outputs": [
    {
     "name": "stdout",
     "output_type": "stream",
     "text": [
      "Mean Absolute Error: 1.94 degrees.\n"
     ]
    }
   ],
   "source": [
    "# Import the model we are using\n",
    "from sklearn.ensemble import RandomForestRegressor\n",
    "# Instantiate model with 1000 decision trees\n",
    "rf = RandomForestRegressor(n_estimators = 1000, random_state = 42)\n",
    "# Train the model on training data\n",
    "rf.fit(x_train, y_train)\n",
    "\n",
    "# Use the forest's predict method on the test data\n",
    "predictions = rf.predict(x_test)\n",
    "# Calculate the absolute errors\n",
    "errors = abs(predictions - y_test)\n",
    "# Print out the mean absolute error (mae)\n",
    "print('Mean Absolute Error:', round(np.mean(errors), 2), 'degrees.')"
   ]
  },
  {
   "cell_type": "code",
   "execution_count": 77,
   "metadata": {},
   "outputs": [
    {
     "name": "stdout",
     "output_type": "stream",
     "text": [
      "Randomforest train 0.9821353893555634\n",
      "Randomforest test 0.8719018623843438\n"
     ]
    }
   ],
   "source": [
    "print('Randomforest train',rf.score(x_train,y_train))\n",
    "print('Randomforest test',rf.score(x_test,y_test))"
   ]
  },
  {
   "cell_type": "code",
   "execution_count": 78,
   "metadata": {},
   "outputs": [
    {
     "name": "stdout",
     "output_type": "stream",
     "text": [
      "Accuracy: 91.61 %.\n"
     ]
    }
   ],
   "source": [
    "# Calculate mean absolute percentage error (MAPE)\n",
    "mape = 100 * (errors / y_test)\n",
    "# Calculate and display accuracy\n",
    "accuracy = 100 - np.mean(mape)\n",
    "print('Accuracy:', round(accuracy, 2), '%.')"
   ]
  },
  {
   "cell_type": "markdown",
   "metadata": {},
   "source": [
    "###  Random forests poly"
   ]
  },
  {
   "cell_type": "code",
   "execution_count": 79,
   "metadata": {},
   "outputs": [
    {
     "name": "stdout",
     "output_type": "stream",
     "text": [
      "Mean Absolute Error: 1.97 degrees.\n"
     ]
    }
   ],
   "source": [
    "# Import the model we are using\n",
    "from sklearn.ensemble import RandomForestRegressor\n",
    "# Instantiate model with 1000 decision trees\n",
    "rf = RandomForestRegressor(n_estimators = 1000, random_state = 42)\n",
    "# Train the model on training data\n",
    "rf.fit(Xpol_train, y_train)\n",
    "\n",
    "# Use the forest's predict method on the test data\n",
    "predictions = rf.predict(Xpol_test)\n",
    "# Calculate the absolute errors\n",
    "errors = abs(predictions - y_test)\n",
    "# Print out the mean absolute error (mae)\n",
    "print('Mean Absolute Error:', round(np.mean(errors), 2), 'degrees.')"
   ]
  },
  {
   "cell_type": "code",
   "execution_count": 80,
   "metadata": {},
   "outputs": [
    {
     "name": "stdout",
     "output_type": "stream",
     "text": [
      "Randomforest pol train 0.9817248155446978\n",
      "Randomforest pol test 0.8723783787048903\n"
     ]
    }
   ],
   "source": [
    "print('Randomforest pol train',rf.score(Xpol_train,y_train))\n",
    "print('Randomforest pol test',rf.score(Xpol_test,y_test))"
   ]
  },
  {
   "cell_type": "code",
   "execution_count": 81,
   "metadata": {},
   "outputs": [
    {
     "name": "stdout",
     "output_type": "stream",
     "text": [
      "Accuracy: 91.58 %.\n"
     ]
    }
   ],
   "source": [
    "mape = 100 * (errors / y_test)\n",
    "# Calculate and display accuracy\n",
    "accuracy = 100 - np.mean(mape)\n",
    "print('Accuracy:', round(accuracy, 2), '%.')"
   ]
  },
  {
   "cell_type": "markdown",
   "metadata": {},
   "source": [
    "## Decision Trees"
   ]
  },
  {
   "cell_type": "code",
   "execution_count": 82,
   "metadata": {},
   "outputs": [
    {
     "name": "stdout",
     "output_type": "stream",
     "text": [
      "0.9579381781739855\n",
      "0.7560896796016232\n"
     ]
    }
   ],
   "source": [
    "from sklearn.tree import DecisionTreeRegressor\n",
    "  \n",
    " # create regressor object\n",
    "regressor = DecisionTreeRegressor(criterion=\"friedman_mse\",max_depth=6)\n",
    "  \n",
    "# fit the regressor with x and y data\n",
    "regressor.fit(x_train, y_train)\n",
    "\n",
    "print(regressor.score(x_train,y_train))\n",
    "print(regressor.score(x_test,y_test))"
   ]
  },
  {
   "cell_type": "code",
   "execution_count": 83,
   "metadata": {},
   "outputs": [
    {
     "name": "stdout",
     "output_type": "stream",
     "text": [
      "0.7892652919447365\n",
      "0.8252713272277856\n",
      "3\n"
     ]
    }
   ],
   "source": [
    "max_score_test=0.0\n",
    "i_max=0\n",
    "for i in range(1,30):\n",
    "    regressor=DecisionTreeRegressor(criterion=\"friedman_mse\",random_state=1,max_depth=i)\n",
    "    regressor.fit(x_train,y_train)\n",
    "    if regressor.score(x_test,y_test)>max_score_test:\n",
    "        max_score_test=regressor.score(x_test,y_test)\n",
    "        max_score_train=regressor.score(x_train,y_train)\n",
    "        i_max=i\n",
    "print(max_score_test)\n",
    "print(max_score_train)\n",
    "print(i_max)\n"
   ]
  },
  {
   "cell_type": "markdown",
   "metadata": {},
   "source": [
    "### decision tree for Polynomial data"
   ]
  },
  {
   "cell_type": "code",
   "execution_count": 84,
   "metadata": {},
   "outputs": [
    {
     "name": "stdout",
     "output_type": "stream",
     "text": [
      "0.9654801327045924\n",
      "0.7020772600524315\n"
     ]
    }
   ],
   "source": [
    "from sklearn.tree import DecisionTreeRegressor\n",
    "  \n",
    " # create regressor object\n",
    "regressor = DecisionTreeRegressor(criterion=\"friedman_mse\",max_depth=6)\n",
    "  \n",
    "# fit the regressor with x and y data\n",
    "regressor.fit(Xpol_train, y_train)\n",
    "\n",
    "print(regressor.score(Xpol_train,y_train))\n",
    "print(regressor.score(Xpol_test,y_test))"
   ]
  },
  {
   "cell_type": "code",
   "execution_count": 85,
   "metadata": {},
   "outputs": [
    {
     "name": "stdout",
     "output_type": "stream",
     "text": [
      "0.8229547321792563\n",
      "0.8401202383403168\n",
      "3\n"
     ]
    }
   ],
   "source": [
    "max_score_test=0.0\n",
    "i_max=0\n",
    "for i in range(1,30):\n",
    "    regressor=DecisionTreeRegressor(criterion=\"friedman_mse\",random_state=1,max_depth=i)\n",
    "    regressor.fit(Xpol_train,y_train)\n",
    "    if regressor.score(Xpol_test,y_test)>max_score_test:\n",
    "        max_score_test=regressor.score(Xpol_test,y_test)\n",
    "        max_score_train=regressor.score(Xpol_train,y_train)\n",
    "        i_max=i\n",
    "print(max_score_test)\n",
    "print(max_score_train)\n",
    "print(i_max)\n"
   ]
  },
  {
   "cell_type": "markdown",
   "metadata": {},
   "source": [
    "# Final Model"
   ]
  },
  {
   "cell_type": "markdown",
   "metadata": {},
   "source": [
    "## ElasticNet- Alpha = 0.00001, polynomial function"
   ]
  },
  {
   "cell_type": "code",
   "execution_count": 86,
   "metadata": {},
   "outputs": [
    {
     "name": "stdout",
     "output_type": "stream",
     "text": [
      "rms pol train error 2.517207195518176\n",
      "reg pol train score 0.8977637260760726\n",
      "rms pol test error 2.6649558222657013\n",
      "reg pol test score 0.8785298267332347\n"
     ]
    },
    {
     "name": "stderr",
     "output_type": "stream",
     "text": [
      "C:\\Users\\NAZEERUDDIN\\anaconda3\\lib\\site-packages\\sklearn\\linear_model\\_coordinate_descent.py:529: ConvergenceWarning: Objective did not converge. You might want to increase the number of iterations. Duality gap: 881.316276226677, tolerance: 1.7229699856115106\n",
      "  model = cd_fast.enet_coordinate_descent(\n"
     ]
    }
   ],
   "source": [
    "model_enet = ElasticNet(alpha = 0.00001)\n",
    "model_enet.fit(Xpol_train, y_train) \n",
    "pred_train_enet= model_enet.predict(Xpol_train)\n",
    "print('rms pol train error',np.sqrt(mean_squared_error(y_train,pred_train_enet)))\n",
    "print('reg pol train score',r2_score(y_train, pred_train_enet))\n",
    "\n",
    "pred_test_enet= model_enet.predict(Xpol_test)\n",
    "print('rms pol test error',np.sqrt(mean_squared_error(y_test,pred_test_enet)))\n",
    "print('reg pol test score',r2_score(y_test, pred_test_enet))"
   ]
  },
  {
   "cell_type": "markdown",
   "metadata": {},
   "source": [
    "### Test score= 0.8785298267332347\n",
    "### Train Score= 0.8977637260760726"
   ]
  },
  {
   "cell_type": "markdown",
   "metadata": {},
   "source": [
    "### RMS error \n",
    "test data= 2.6649558222657013\n",
    "Train data = 2.517207195518176"
   ]
  }
 ],
 "metadata": {
  "kernelspec": {
   "display_name": "Python 3",
   "language": "python",
   "name": "python3"
  },
  "language_info": {
   "codemirror_mode": {
    "name": "ipython",
    "version": 3
   },
   "file_extension": ".py",
   "mimetype": "text/x-python",
   "name": "python",
   "nbconvert_exporter": "python",
   "pygments_lexer": "ipython3",
   "version": "3.8.5"
  }
 },
 "nbformat": 4,
 "nbformat_minor": 4
}
